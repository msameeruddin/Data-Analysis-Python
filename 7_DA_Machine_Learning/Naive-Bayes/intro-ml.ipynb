{
 "cells": [
  {
   "cell_type": "markdown",
   "metadata": {},
   "source": [
    "### Machine Learning"
   ]
  },
  {
   "cell_type": "markdown",
   "metadata": {},
   "source": [
    "* ML is a technique followed to make a computer learn from the previous experience and make an assumption for the future outcome.\n",
    "* It can learn and adapt to the new data without any human intervention.\n",
    "* It needs prior training so that it can be tested to the new data.\n",
    "\n",
    "<img src=\"http://www.favouriteblog.com/wp-content/uploads/2017/07/Types-of-Learning.png\">\n",
    "\n",
    "**Credits** - Image from Internet (www.favouriteblog.com)"
   ]
  },
  {
   "cell_type": "markdown",
   "metadata": {},
   "source": [
    "### ML Dataset"
   ]
  },
  {
   "cell_type": "markdown",
   "metadata": {},
   "source": [
    "In machine learning, we divide the dataset into two.\n",
    "\n",
    "<img src=\"https://external-content.duckduckgo.com/iu/?u=https%3A%2F%2Fdata-flair.training%2Fblogs%2Fwp-content%2Fuploads%2Fsites%2F2%2F2018%2F08%2F1-16.png&f=1&nofb=1\">\n",
    "\n",
    "* **Training Data** - Here we train the machine learning model by showing both inputs and outputs.\n",
    "* **Testing Data** - Here we test the model where inputs (new data) are not mapped with outputs. We will check the model performance in terms of accuracy.\n",
    "\n",
    "**Credits** - Image from Internet"
   ]
  },
  {
   "cell_type": "markdown",
   "metadata": {},
   "source": [
    "### Supervised Learning"
   ]
  },
  {
   "cell_type": "markdown",
   "metadata": {},
   "source": [
    "The computer is presented with both example inputs and their respective outputs. The algorithm learns a general rule to map the inputs to the outputs.\n",
    "\n",
    "#### Training stage\n",
    "\n",
    "We show the model a set of inputs along with the respective outputs. The task of the model is to learn by mapping the inputs and outputs.\n",
    "\n",
    "<br>\n",
    "<img src=\"https://raw.githubusercontent.com/msameeruddin/Data-Analysis-Python/main/7_DA_Machine_Learning/training.png\">\n",
    "<br>\n",
    "\n",
    "The model is trained from the dataset that is fed. It will completely learn from it.\n",
    "\n",
    "#### Testing stage\n",
    "\n",
    "We show the model a set of new inputs without the respective outputs. The aim of the model is to predict based on the learning it had undergone.\n",
    "\n",
    "<br>\n",
    "<img src=\"https://raw.githubusercontent.com/msameeruddin/Data-Analysis-Python/main/7_DA_Machine_Learning/testing.png\">\n",
    "<br>\n",
    "\n",
    "The model predicts the category based on the previous training or learning.\n",
    "\n",
    "<br>\n",
    "\n",
    "**Images by Author**"
   ]
  },
  {
   "cell_type": "markdown",
   "metadata": {},
   "source": [
    "**Note**\n",
    "\n",
    "* Algorithms learn from data.\n",
    "* They find - \n",
    "    - relationships\n",
    "    - develop understanding\n",
    "    - make decisions\n",
    "    - evaluate their confidence from the training data they are given.\n",
    "* The better the training data is, the better the model performs."
   ]
  },
  {
   "cell_type": "markdown",
   "metadata": {},
   "source": [
    "### Exception case for the above example"
   ]
  },
  {
   "cell_type": "markdown",
   "metadata": {},
   "source": [
    "1. Suppose I have trained my model to identify/separate `duck` and `rabbit` images from the large dataset.\n",
    "\n",
    "<br>\n",
    "<img src=\"https://external-content.duckduckgo.com/iu/?u=http%3A%2F%2Ffarm9.staticflickr.com%2F8518%2F8597820336_b9af5631ac.jpg\">\n",
    "<br>\n",
    "\n",
    "2. Now, I need to test my model with the new data.\n",
    "\n",
    "    - New image\n",
    "    \n",
    "    <br>\n",
    "    <img src=\"https://external-content.duckduckgo.com/iu/?u=https%3A%2F%2Fi2.wp.com%2Fwww.learningspy.co.uk%2Fwp-content%2Fuploads%2F2016%2F06%2Fduck-rabbit.jpg\">\n",
    "    <br>\n",
    "    \n",
    "    - Is it duck or rabbit?\n",
    "    \n",
    "    <br>\n",
    "    <img src=\"https://external-content.duckduckgo.com/iu/?u=https%3A%2F%2Fi.pinimg.com%2Foriginals%2F84%2Fe1%2Ff2%2F84e1f2971b1dbe0417bdf6ef1815894e.jpg\">\n",
    "    <br>\n",
    "\n",
    "3. What can you say about this?\n",
    "\n",
    "<br>\n",
    "\n",
    "**Credits** - Images from Internet"
   ]
  },
  {
   "cell_type": "markdown",
   "metadata": {},
   "source": [
    "### Important Terminology"
   ]
  },
  {
   "cell_type": "markdown",
   "metadata": {},
   "source": [
    "* **Conditional Probability**\n",
    "\n",
    "    * In probability theory, **conditional probability** is a measure of the probability of an event occurring, given that another event (by assumption, presumption, assertion or evidence) has already occurred. \n",
    "\n",
    "    * If the event of interest is **A** and the event **B** is known or assumed to have occurred, \"the conditional probability of A given B\", or \"the probability of A under the condition B\", is usually written as $P(A | B)$, or sometimes $P_{B}(A)$ or $P(A / B)$.\n",
    "    \n",
    "    * Example - https://en.wikipedia.org/wiki/Conditional_probability\n",
    "    \n",
    "    * Formula - $P(A | B) = \\frac{P(A \\cap B)}{P(B)}$\n",
    "\n",
    "* **Bayes Theorem**\n",
    "\n",
    "    * If we have two events such as **A** and **B** then\n",
    "\n",
    "        $$P(A | B) = \\frac{P(B | A) P(A)}{P(B)}; \\ \\text{if} \\ P(B) \\neq 0$$\n",
    "\n",
    "    * Here\n",
    "\n",
    "        * $P(A | B) \\implies \\text{Posterior}$\n",
    "        * $P(B | A) \\implies \\text{Likelihood}$\n",
    "        * $P(A) \\implies \\text{Prior}$\n",
    "        * $P(B) \\implies \\text{Evidence}$\n",
    "\n",
    "* **Naive-Bayes Algorithm**\n",
    "    \n",
    "    * Blog link → https://msameeruddin.hashnode.dev/naive-bayes-classification-algorithm-in-practice\n",
    "    \n",
    "    * Formula\n",
    "        \n",
    "        $$\\hat{y} = \\text{argmax}_{k \\in \\{1, 2, \\dots, k\\}} P(C_k) \\prod_{i=1}^n P(x_i | C_k)$$\n",
    "    \n",
    "    * Here\n",
    "        * $\\hat{y} \\implies \\text{predicted class label (category)}$\n",
    "        * $x_i \\implies \\text{each category in feature x}$\n",
    "        * $C_k \\implies \\text{each class label (target)}$"
   ]
  },
  {
   "cell_type": "markdown",
   "metadata": {},
   "source": [
    "### `import` Packages"
   ]
  },
  {
   "cell_type": "code",
   "execution_count": 1,
   "metadata": {},
   "outputs": [],
   "source": [
    "import pandas as pd\n",
    "import numpy as np"
   ]
  },
  {
   "cell_type": "markdown",
   "metadata": {},
   "source": [
    "### Data Reading\n",
    "\n",
    "* Data source → http://www.shatterline.com/MachineLearning/data/tennis_anyone.csv"
   ]
  },
  {
   "cell_type": "code",
   "execution_count": 2,
   "metadata": {},
   "outputs": [],
   "source": [
    "data_source = 'http://www.shatterline.com/MachineLearning/data/tennis_anyone.csv'\n",
    "df = pd.read_csv(data_source)\n",
    "df.columns = ['outlook', 'temp', 'humidity', 'wind', 'class']"
   ]
  },
  {
   "cell_type": "code",
   "execution_count": 3,
   "metadata": {},
   "outputs": [
    {
     "data": {
      "text/html": [
       "<div>\n",
       "<style scoped>\n",
       "    .dataframe tbody tr th:only-of-type {\n",
       "        vertical-align: middle;\n",
       "    }\n",
       "\n",
       "    .dataframe tbody tr th {\n",
       "        vertical-align: top;\n",
       "    }\n",
       "\n",
       "    .dataframe thead th {\n",
       "        text-align: right;\n",
       "    }\n",
       "</style>\n",
       "<table border=\"1\" class=\"dataframe\">\n",
       "  <thead>\n",
       "    <tr style=\"text-align: right;\">\n",
       "      <th></th>\n",
       "      <th>outlook</th>\n",
       "      <th>temp</th>\n",
       "      <th>humidity</th>\n",
       "      <th>wind</th>\n",
       "      <th>class</th>\n",
       "    </tr>\n",
       "  </thead>\n",
       "  <tbody>\n",
       "    <tr>\n",
       "      <th>0</th>\n",
       "      <td>Sunny</td>\n",
       "      <td>Hot</td>\n",
       "      <td>High</td>\n",
       "      <td>Weak</td>\n",
       "      <td>No</td>\n",
       "    </tr>\n",
       "    <tr>\n",
       "      <th>1</th>\n",
       "      <td>Sunny</td>\n",
       "      <td>Hot</td>\n",
       "      <td>High</td>\n",
       "      <td>Strong</td>\n",
       "      <td>No</td>\n",
       "    </tr>\n",
       "    <tr>\n",
       "      <th>2</th>\n",
       "      <td>Overcast</td>\n",
       "      <td>Hot</td>\n",
       "      <td>High</td>\n",
       "      <td>Weak</td>\n",
       "      <td>Yes</td>\n",
       "    </tr>\n",
       "    <tr>\n",
       "      <th>3</th>\n",
       "      <td>Rain</td>\n",
       "      <td>Mild</td>\n",
       "      <td>High</td>\n",
       "      <td>Weak</td>\n",
       "      <td>Yes</td>\n",
       "    </tr>\n",
       "    <tr>\n",
       "      <th>4</th>\n",
       "      <td>Rain</td>\n",
       "      <td>Cool</td>\n",
       "      <td>Normal</td>\n",
       "      <td>Weak</td>\n",
       "      <td>Yes</td>\n",
       "    </tr>\n",
       "  </tbody>\n",
       "</table>\n",
       "</div>"
      ],
      "text/plain": [
       "    outlook  temp humidity    wind class\n",
       "0     Sunny   Hot     High    Weak    No\n",
       "1     Sunny   Hot     High  Strong    No\n",
       "2  Overcast   Hot     High    Weak   Yes\n",
       "3      Rain  Mild     High    Weak   Yes\n",
       "4      Rain  Cool   Normal    Weak   Yes"
      ]
     },
     "execution_count": 3,
     "metadata": {},
     "output_type": "execute_result"
    }
   ],
   "source": [
    "df.head()"
   ]
  },
  {
   "cell_type": "markdown",
   "metadata": {},
   "source": [
    "### Likelihood"
   ]
  },
  {
   "cell_type": "code",
   "execution_count": 4,
   "metadata": {},
   "outputs": [],
   "source": [
    "y = df['class']\n",
    "X = df.drop(columns=['class'], axis=1)"
   ]
  },
  {
   "cell_type": "code",
   "execution_count": 5,
   "metadata": {},
   "outputs": [
    {
     "data": {
      "text/html": [
       "<div>\n",
       "<style scoped>\n",
       "    .dataframe tbody tr th:only-of-type {\n",
       "        vertical-align: middle;\n",
       "    }\n",
       "\n",
       "    .dataframe tbody tr th {\n",
       "        vertical-align: top;\n",
       "    }\n",
       "\n",
       "    .dataframe thead th {\n",
       "        text-align: right;\n",
       "    }\n",
       "</style>\n",
       "<table border=\"1\" class=\"dataframe\">\n",
       "  <thead>\n",
       "    <tr style=\"text-align: right;\">\n",
       "      <th></th>\n",
       "      <th>outlook</th>\n",
       "      <th>temp</th>\n",
       "      <th>humidity</th>\n",
       "      <th>wind</th>\n",
       "    </tr>\n",
       "  </thead>\n",
       "  <tbody>\n",
       "    <tr>\n",
       "      <th>0</th>\n",
       "      <td>Sunny</td>\n",
       "      <td>Hot</td>\n",
       "      <td>High</td>\n",
       "      <td>Weak</td>\n",
       "    </tr>\n",
       "    <tr>\n",
       "      <th>1</th>\n",
       "      <td>Sunny</td>\n",
       "      <td>Hot</td>\n",
       "      <td>High</td>\n",
       "      <td>Strong</td>\n",
       "    </tr>\n",
       "    <tr>\n",
       "      <th>2</th>\n",
       "      <td>Overcast</td>\n",
       "      <td>Hot</td>\n",
       "      <td>High</td>\n",
       "      <td>Weak</td>\n",
       "    </tr>\n",
       "    <tr>\n",
       "      <th>3</th>\n",
       "      <td>Rain</td>\n",
       "      <td>Mild</td>\n",
       "      <td>High</td>\n",
       "      <td>Weak</td>\n",
       "    </tr>\n",
       "    <tr>\n",
       "      <th>4</th>\n",
       "      <td>Rain</td>\n",
       "      <td>Cool</td>\n",
       "      <td>Normal</td>\n",
       "      <td>Weak</td>\n",
       "    </tr>\n",
       "  </tbody>\n",
       "</table>\n",
       "</div>"
      ],
      "text/plain": [
       "    outlook  temp humidity    wind\n",
       "0     Sunny   Hot     High    Weak\n",
       "1     Sunny   Hot     High  Strong\n",
       "2  Overcast   Hot     High    Weak\n",
       "3      Rain  Mild     High    Weak\n",
       "4      Rain  Cool   Normal    Weak"
      ]
     },
     "execution_count": 5,
     "metadata": {},
     "output_type": "execute_result"
    }
   ],
   "source": [
    "X.head()"
   ]
  },
  {
   "cell_type": "code",
   "execution_count": 6,
   "metadata": {},
   "outputs": [
    {
     "data": {
      "text/plain": [
       "0     No\n",
       "1     No\n",
       "2    Yes\n",
       "3    Yes\n",
       "4    Yes\n",
       "Name: class, dtype: object"
      ]
     },
     "execution_count": 6,
     "metadata": {},
     "output_type": "execute_result"
    }
   ],
   "source": [
    "y.head()"
   ]
  },
  {
   "cell_type": "code",
   "execution_count": 7,
   "metadata": {},
   "outputs": [],
   "source": [
    "def feature_probability(X_features, y_target, f, yt_kv):\n",
    "    ddf = pd.DataFrame({f : X_features[f].values, 'class' : y_target.values})\n",
    "    xf = X_features[f]\n",
    "    xf_c = xf.value_counts().to_frame().index.to_list()\n",
    "    \n",
    "    each_x = {}\n",
    "    for xi in xf_c:\n",
    "        df_x = ddf[ddf[f] == xi]\n",
    "        each_xy = {}\n",
    "        for yi in list(yt_kv.keys()):\n",
    "            df_xy = df_x[df_x['class'] == yi]\n",
    "            each_xy[yi] = len(df_xy) / yt_kv[yi]\n",
    "        each_x[xi] = each_xy\n",
    "        \n",
    "    return each_x"
   ]
  },
  {
   "cell_type": "code",
   "execution_count": 8,
   "metadata": {},
   "outputs": [
    {
     "data": {
      "text/plain": [
       "{'Weak': {'Yes': 0.6666666666666666, 'No': 0.4},\n",
       " 'Strong': {'Yes': 0.3333333333333333, 'No': 0.6}}"
      ]
     },
     "execution_count": 8,
     "metadata": {},
     "output_type": "execute_result"
    }
   ],
   "source": [
    "yt_kv = {'Yes': 9, 'No': 5}\n",
    "feature_probability(X_features=X, y_target=y, f='wind', yt_kv=yt_kv)"
   ]
  },
  {
   "cell_type": "code",
   "execution_count": 9,
   "metadata": {},
   "outputs": [],
   "source": [
    "def compute_likelihood(X_features, y_target):\n",
    "    yt = y_target.value_counts().to_frame()\n",
    "    yt_k = yt.index.to_list()\n",
    "    yt_v = yt.values[:, 0]\n",
    "    yt_kv = {i : j for (i, j) in zip(yt_k, yt_v)}\n",
    "    \n",
    "    X_likelihood = {}\n",
    "    for col in X_features:\n",
    "        X_likelihood[col] = feature_probability(X_features=X_features, y_target=y_target, f=col, yt_kv=yt_kv)\n",
    "    y_likelihood = {i : j / np.sum(yt.values[:, 0]) for (i, j) in yt_kv.items()}\n",
    "    \n",
    "    return X_likelihood, y_likelihood"
   ]
  },
  {
   "cell_type": "code",
   "execution_count": 10,
   "metadata": {},
   "outputs": [],
   "source": [
    "X_l, y_l = compute_likelihood(X_features=X, y_target=y)"
   ]
  },
  {
   "cell_type": "code",
   "execution_count": 11,
   "metadata": {
    "scrolled": false
   },
   "outputs": [
    {
     "data": {
      "text/plain": [
       "{'outlook': {'Sunny': {'Yes': 0.2222222222222222, 'No': 0.6},\n",
       "  'Rain': {'Yes': 0.3333333333333333, 'No': 0.4},\n",
       "  'Overcast': {'Yes': 0.4444444444444444, 'No': 0.0}},\n",
       " 'temp': {'Mild': {'Yes': 0.4444444444444444, 'No': 0.4},\n",
       "  'Hot': {'Yes': 0.2222222222222222, 'No': 0.4},\n",
       "  'Cool': {'Yes': 0.3333333333333333, 'No': 0.2}},\n",
       " 'humidity': {'Normal': {'Yes': 0.6666666666666666, 'No': 0.2},\n",
       "  'High': {'Yes': 0.3333333333333333, 'No': 0.8}},\n",
       " 'wind': {'Weak': {'Yes': 0.6666666666666666, 'No': 0.4},\n",
       "  'Strong': {'Yes': 0.3333333333333333, 'No': 0.6}}}"
      ]
     },
     "execution_count": 11,
     "metadata": {},
     "output_type": "execute_result"
    }
   ],
   "source": [
    "X_l"
   ]
  },
  {
   "cell_type": "code",
   "execution_count": 12,
   "metadata": {},
   "outputs": [
    {
     "data": {
      "text/plain": [
       "{'Yes': 0.6428571428571429, 'No': 0.35714285714285715}"
      ]
     },
     "execution_count": 12,
     "metadata": {},
     "output_type": "execute_result"
    }
   ],
   "source": [
    "y_l"
   ]
  },
  {
   "cell_type": "markdown",
   "metadata": {},
   "source": [
    "### Prediction"
   ]
  },
  {
   "cell_type": "code",
   "execution_count": 13,
   "metadata": {},
   "outputs": [
    {
     "name": "stdout",
     "output_type": "stream",
     "text": [
      "p1 1\n",
      "p2 3\n"
     ]
    }
   ],
   "source": [
    "# case - 1\n",
    "p1 = [['Sunny', 'Cool', 'High', 'Strong']]\n",
    "\n",
    "# case - 2\n",
    "p2 = [['Sunny', 'Mild', 'Normal', 'Weak'], \n",
    "      ['Sunny', 'Mild', 'High', 'Weak'],\n",
    "      ['Rain', 'Cool', 'Normal', 'Strong']]\n",
    "\n",
    "print('p1', len(p1))\n",
    "print('p2', len(p2))"
   ]
  },
  {
   "cell_type": "code",
   "execution_count": 14,
   "metadata": {},
   "outputs": [],
   "source": [
    "def predictor(X_new, X_l, y_l):\n",
    "    cols = list(X_l.keys())\n",
    "    col_val = {i : j for (i, j) in zip(cols, X_new)}\n",
    "\n",
    "    lprobs = {}\n",
    "    for l, v in y_l.items():\n",
    "        cate_v = [X_l[cn][cl][l] for (cn, cl) in col_val.items()]\n",
    "        lprobs[l] = round((np.prod(cate_v) * v), 4)\n",
    "\n",
    "    prob_ks = list(lprobs.keys())\n",
    "    prob_vs = list(lprobs.values())\n",
    "    \n",
    "    return prob_ks[np.argmax(prob_vs)]\n",
    "\n",
    "def predict(X_new, X_l, y_l):\n",
    "    if (len(X_new) == 1):\n",
    "        return predictor(X_new=X_new[0], X_l=X_l, y_l=y_l)\n",
    "    preds = [predictor(X_new=i, X_l=X_l, y_l=y_l) for i in X_new]\n",
    "    return preds"
   ]
  },
  {
   "cell_type": "code",
   "execution_count": 15,
   "metadata": {
    "scrolled": true
   },
   "outputs": [
    {
     "name": "stdout",
     "output_type": "stream",
     "text": [
      "No\n"
     ]
    }
   ],
   "source": [
    "prediction = predict(X_new=p1, X_l=X_l, y_l=y_l)\n",
    "print(prediction)"
   ]
  },
  {
   "cell_type": "code",
   "execution_count": 16,
   "metadata": {},
   "outputs": [
    {
     "name": "stdout",
     "output_type": "stream",
     "text": [
      "['Yes', 'No', 'Yes']\n"
     ]
    }
   ],
   "source": [
    "prediction = predict(X_new=p2, X_l=X_l, y_l=y_l)\n",
    "print(prediction)"
   ]
  },
  {
   "cell_type": "markdown",
   "metadata": {},
   "source": [
    "### End"
   ]
  }
 ],
 "metadata": {
  "kernelspec": {
   "display_name": "Python 3",
   "language": "python",
   "name": "python3"
  },
  "language_info": {
   "codemirror_mode": {
    "name": "ipython",
    "version": 3
   },
   "file_extension": ".py",
   "mimetype": "text/x-python",
   "name": "python",
   "nbconvert_exporter": "python",
   "pygments_lexer": "ipython3",
   "version": "3.8.4"
  }
 },
 "nbformat": 4,
 "nbformat_minor": 4
}
