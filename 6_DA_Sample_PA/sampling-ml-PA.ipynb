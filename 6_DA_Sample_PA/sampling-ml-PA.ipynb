{
 "cells": [
  {
   "cell_type": "markdown",
   "metadata": {},
   "source": [
    "### Today's agenda"
   ]
  },
  {
   "cell_type": "markdown",
   "metadata": {},
   "source": [
    "* Sample and Population\n",
    "* Merits and Demerits of sampling\n",
    "* Types of sampling\n",
    "* Random sampling\n",
    "    - Implementing the same using pandas\n",
    "* Predictive analytics\n",
    "* Importance of sampling in PA"
   ]
  },
  {
   "cell_type": "markdown",
   "metadata": {},
   "source": [
    "<h1><center>Sample Population & Sampling</center></h1>"
   ]
  },
  {
   "cell_type": "markdown",
   "metadata": {},
   "source": [
    "### Population"
   ]
  },
  {
   "cell_type": "markdown",
   "metadata": {},
   "source": [
    "* A set of similar items or events which is of interest for some question or experiment.\n",
    "* We denote the population as `N`."
   ]
  },
  {
   "cell_type": "markdown",
   "metadata": {},
   "source": [
    "### Sample"
   ]
  },
  {
   "cell_type": "markdown",
   "metadata": {},
   "source": [
    "* A subset of the population (a statistical sample) that is chosen to represent the population.\n",
    "* We denote the sample as `n`."
   ]
  },
  {
   "cell_type": "markdown",
   "metadata": {},
   "source": [
    "### Sampling\n",
    "(method)"
   ]
  },
  {
   "cell_type": "markdown",
   "metadata": {},
   "source": [
    "* A selection of subset of individuals from statistical population to estimate the characteristics for the whole population.\n",
    "* It is one such technique that is applied by everyone in our day to day activities.\n",
    "\n",
    "<img src=\"http://1.bp.blogspot.com/-R2L1EbgRwIs/UpEKoV7_6tI/AAAAAAAABAg/x6B-knDyoEI/s1600/population.gif\">\n",
    "\n",
    "<br>\n",
    "\n",
    "**Credits** - Image from Internet"
   ]
  },
  {
   "cell_type": "markdown",
   "metadata": {},
   "source": [
    "### Note\n",
    "\n",
    "* By taking sample, statisticians tend to infer or conclude the characteristics/estimates to the whole population."
   ]
  },
  {
   "cell_type": "markdown",
   "metadata": {},
   "source": [
    "### Example"
   ]
  },
  {
   "cell_type": "markdown",
   "metadata": {},
   "source": [
    "* Imagine you have a piece of land and you want to know if the land is fertile enough to grow plants.\n",
    "\n",
    "<br>\n",
    "\n",
    "<img src=\"https://external-content.duckduckgo.com/iu/?u=http%3A%2F%2Fwiki.urbandead.com%2Fimages%2F0%2F0a%2FWaste_land.JPG\">\n",
    "\n",
    "<br>\n",
    "\n",
    "* **Scenario 1**\n",
    "    - Interpret the land's fertility by testing the whole land.\n",
    "* **Scenario 2**\n",
    "    - Interpret the land's fertility by just testing a sample (soil) in a container or jar.\n",
    "\n",
    "<br>\n",
    "\n",
    "**Credits** - Image from Internet"
   ]
  },
  {
   "cell_type": "markdown",
   "metadata": {},
   "source": [
    "### Merits & Demerits"
   ]
  },
  {
   "cell_type": "markdown",
   "metadata": {},
   "source": [
    "**Merits**\n",
    "\n",
    "* Less cost effective\n",
    "* Time saving\n",
    "* Higher accuracy\n",
    "\n",
    "**Demerits**\n",
    "\n",
    "* Chances of biasness\n",
    "* Need of subject specific knowledge"
   ]
  },
  {
   "cell_type": "markdown",
   "metadata": {},
   "source": [
    "### Types of Sampling"
   ]
  },
  {
   "cell_type": "markdown",
   "metadata": {},
   "source": [
    "1. **Probability Sampling**\n",
    "    - `Simple Random Sampling`\n",
    "        - It is a randomly selected subset where each member of the population has an exactly equal chance of being selected.\n",
    "        - From the random sample that is selected, researcher tends to make statistical inferences on the whole population.\n",
    "    - Systematic Sampling\n",
    "    - Cluster Sampling\n",
    "    - Stratified Sampling\n",
    "2. **Non-Probability Sampling**\n",
    "    - Convenience Sampling\n",
    "    - Judgmental Sampling\n",
    "    - Snowball Sampling\n",
    "    - Quota Sampling"
   ]
  },
  {
   "cell_type": "markdown",
   "metadata": {},
   "source": [
    "### What should be the size of the sample?\n",
    "\n",
    "* Refer to → https://www.tools4dev.org/resources/how-to-choose-a-sample-size/"
   ]
  },
  {
   "cell_type": "code",
   "execution_count": 1,
   "metadata": {},
   "outputs": [],
   "source": [
    "import pandas as pd\n",
    "import numpy as np"
   ]
  },
  {
   "cell_type": "markdown",
   "metadata": {},
   "source": [
    "### Population data"
   ]
  },
  {
   "cell_type": "markdown",
   "metadata": {},
   "source": [
    "Get random integers in the range of `low` and `high`\n",
    "\n",
    "* size → (how_many_rows, how_many_columns) - (10000, 3)"
   ]
  },
  {
   "cell_type": "markdown",
   "metadata": {},
   "source": [
    "Make random data using pandas"
   ]
  },
  {
   "cell_type": "code",
   "execution_count": 2,
   "metadata": {},
   "outputs": [],
   "source": [
    "# help(np.random.randint)"
   ]
  },
  {
   "cell_type": "code",
   "execution_count": 3,
   "metadata": {},
   "outputs": [],
   "source": [
    "# popn_data (population)\n",
    "popn_data = np.random.randint(low=10, high=1000, size=(10000, 3))"
   ]
  },
  {
   "cell_type": "code",
   "execution_count": 4,
   "metadata": {
    "scrolled": true
   },
   "outputs": [
    {
     "data": {
      "text/plain": [
       "array([[124, 287, 466],\n",
       "       [651, 231, 681],\n",
       "       [557, 667, 278],\n",
       "       ...,\n",
       "       [ 91, 593, 423],\n",
       "       [339, 266, 251],\n",
       "       [539, 446, 403]])"
      ]
     },
     "execution_count": 4,
     "metadata": {},
     "output_type": "execute_result"
    }
   ],
   "source": [
    "# display popn_data\n",
    "popn_data"
   ]
  },
  {
   "cell_type": "markdown",
   "metadata": {},
   "source": [
    "Create a dataframe with columns and data generated"
   ]
  },
  {
   "cell_type": "code",
   "execution_count": 5,
   "metadata": {},
   "outputs": [],
   "source": [
    "# df\n",
    "df = pd.DataFrame(data=popn_data, columns=['col_1', 'col_2', 'col_3'])"
   ]
  },
  {
   "cell_type": "code",
   "execution_count": 6,
   "metadata": {
    "scrolled": true
   },
   "outputs": [
    {
     "data": {
      "text/html": [
       "<div>\n",
       "<style scoped>\n",
       "    .dataframe tbody tr th:only-of-type {\n",
       "        vertical-align: middle;\n",
       "    }\n",
       "\n",
       "    .dataframe tbody tr th {\n",
       "        vertical-align: top;\n",
       "    }\n",
       "\n",
       "    .dataframe thead th {\n",
       "        text-align: right;\n",
       "    }\n",
       "</style>\n",
       "<table border=\"1\" class=\"dataframe\">\n",
       "  <thead>\n",
       "    <tr style=\"text-align: right;\">\n",
       "      <th></th>\n",
       "      <th>col_1</th>\n",
       "      <th>col_2</th>\n",
       "      <th>col_3</th>\n",
       "    </tr>\n",
       "  </thead>\n",
       "  <tbody>\n",
       "    <tr>\n",
       "      <th>0</th>\n",
       "      <td>124</td>\n",
       "      <td>287</td>\n",
       "      <td>466</td>\n",
       "    </tr>\n",
       "    <tr>\n",
       "      <th>1</th>\n",
       "      <td>651</td>\n",
       "      <td>231</td>\n",
       "      <td>681</td>\n",
       "    </tr>\n",
       "    <tr>\n",
       "      <th>2</th>\n",
       "      <td>557</td>\n",
       "      <td>667</td>\n",
       "      <td>278</td>\n",
       "    </tr>\n",
       "    <tr>\n",
       "      <th>3</th>\n",
       "      <td>577</td>\n",
       "      <td>600</td>\n",
       "      <td>741</td>\n",
       "    </tr>\n",
       "    <tr>\n",
       "      <th>4</th>\n",
       "      <td>54</td>\n",
       "      <td>150</td>\n",
       "      <td>274</td>\n",
       "    </tr>\n",
       "  </tbody>\n",
       "</table>\n",
       "</div>"
      ],
      "text/plain": [
       "   col_1  col_2  col_3\n",
       "0    124    287    466\n",
       "1    651    231    681\n",
       "2    557    667    278\n",
       "3    577    600    741\n",
       "4     54    150    274"
      ]
     },
     "execution_count": 6,
     "metadata": {},
     "output_type": "execute_result"
    }
   ],
   "source": [
    "# head()\n",
    "df.head()"
   ]
  },
  {
   "cell_type": "markdown",
   "metadata": {},
   "source": [
    "Population data (df) size is 10000\n",
    "\n",
    "* N = 10000"
   ]
  },
  {
   "cell_type": "code",
   "execution_count": 7,
   "metadata": {},
   "outputs": [
    {
     "data": {
      "text/html": [
       "<div>\n",
       "<style scoped>\n",
       "    .dataframe tbody tr th:only-of-type {\n",
       "        vertical-align: middle;\n",
       "    }\n",
       "\n",
       "    .dataframe tbody tr th {\n",
       "        vertical-align: top;\n",
       "    }\n",
       "\n",
       "    .dataframe thead th {\n",
       "        text-align: right;\n",
       "    }\n",
       "</style>\n",
       "<table border=\"1\" class=\"dataframe\">\n",
       "  <thead>\n",
       "    <tr style=\"text-align: right;\">\n",
       "      <th></th>\n",
       "      <th>col_1</th>\n",
       "      <th>col_2</th>\n",
       "      <th>col_3</th>\n",
       "    </tr>\n",
       "  </thead>\n",
       "  <tbody>\n",
       "    <tr>\n",
       "      <th>9995</th>\n",
       "      <td>917</td>\n",
       "      <td>482</td>\n",
       "      <td>431</td>\n",
       "    </tr>\n",
       "    <tr>\n",
       "      <th>9996</th>\n",
       "      <td>618</td>\n",
       "      <td>996</td>\n",
       "      <td>650</td>\n",
       "    </tr>\n",
       "    <tr>\n",
       "      <th>9997</th>\n",
       "      <td>91</td>\n",
       "      <td>593</td>\n",
       "      <td>423</td>\n",
       "    </tr>\n",
       "    <tr>\n",
       "      <th>9998</th>\n",
       "      <td>339</td>\n",
       "      <td>266</td>\n",
       "      <td>251</td>\n",
       "    </tr>\n",
       "    <tr>\n",
       "      <th>9999</th>\n",
       "      <td>539</td>\n",
       "      <td>446</td>\n",
       "      <td>403</td>\n",
       "    </tr>\n",
       "  </tbody>\n",
       "</table>\n",
       "</div>"
      ],
      "text/plain": [
       "      col_1  col_2  col_3\n",
       "9995    917    482    431\n",
       "9996    618    996    650\n",
       "9997     91    593    423\n",
       "9998    339    266    251\n",
       "9999    539    446    403"
      ]
     },
     "execution_count": 7,
     "metadata": {},
     "output_type": "execute_result"
    }
   ],
   "source": [
    "df.tail()"
   ]
  },
  {
   "cell_type": "code",
   "execution_count": 8,
   "metadata": {},
   "outputs": [
    {
     "data": {
      "text/plain": [
       "(10000, 3)"
      ]
     },
     "execution_count": 8,
     "metadata": {},
     "output_type": "execute_result"
    }
   ],
   "source": [
    "# shape\n",
    "df.shape"
   ]
  },
  {
   "cell_type": "markdown",
   "metadata": {},
   "source": [
    "### Random selection without `pandas`"
   ]
  },
  {
   "cell_type": "code",
   "execution_count": 9,
   "metadata": {},
   "outputs": [],
   "source": [
    "rand_locs = np.random.randint(low=0, high=df.shape[0], size=(100, ))"
   ]
  },
  {
   "cell_type": "code",
   "execution_count": 10,
   "metadata": {},
   "outputs": [
    {
     "data": {
      "text/plain": [
       "array([3796, 1510, 9587, 4037, 4906, 4978, 4465, 1039, 7940, 6726, 8202,\n",
       "       1175, 1218, 7237, 4770, 6296, 3533, 6853, 7639, 3624,  723, 9667,\n",
       "       8391, 3329, 1771, 1138, 1109, 9713, 5788, 2873,  446, 6019,  609,\n",
       "       3409, 4910, 7734, 4116, 8840, 9643, 7053,   37, 9220, 7623, 4844,\n",
       "       4720, 2216, 6977, 2690, 9081,  311, 2494, 7638, 9736, 1416, 9547,\n",
       "       9022, 1882, 7016, 4303, 4788, 8426, 4871, 1686, 1206, 4667, 6404,\n",
       "       2650, 8622, 6746, 8158, 2296,  355, 9579, 5405, 1738, 7467, 6030,\n",
       "       5424, 3761, 2669,  180, 1416, 1677, 7559,  486, 6055, 1438, 6985,\n",
       "       1618, 5097, 5050,  789,  651, 4406, 9399, 5783,  778, 7604, 4732,\n",
       "       7323])"
      ]
     },
     "execution_count": 10,
     "metadata": {},
     "output_type": "execute_result"
    }
   ],
   "source": [
    "rand_locs"
   ]
  },
  {
   "cell_type": "code",
   "execution_count": 11,
   "metadata": {},
   "outputs": [],
   "source": [
    "rand_sample_df = df.loc[rand_locs]"
   ]
  },
  {
   "cell_type": "code",
   "execution_count": 12,
   "metadata": {},
   "outputs": [
    {
     "data": {
      "text/html": [
       "<div>\n",
       "<style scoped>\n",
       "    .dataframe tbody tr th:only-of-type {\n",
       "        vertical-align: middle;\n",
       "    }\n",
       "\n",
       "    .dataframe tbody tr th {\n",
       "        vertical-align: top;\n",
       "    }\n",
       "\n",
       "    .dataframe thead th {\n",
       "        text-align: right;\n",
       "    }\n",
       "</style>\n",
       "<table border=\"1\" class=\"dataframe\">\n",
       "  <thead>\n",
       "    <tr style=\"text-align: right;\">\n",
       "      <th></th>\n",
       "      <th>col_1</th>\n",
       "      <th>col_2</th>\n",
       "      <th>col_3</th>\n",
       "    </tr>\n",
       "  </thead>\n",
       "  <tbody>\n",
       "    <tr>\n",
       "      <th>3796</th>\n",
       "      <td>207</td>\n",
       "      <td>171</td>\n",
       "      <td>422</td>\n",
       "    </tr>\n",
       "    <tr>\n",
       "      <th>1510</th>\n",
       "      <td>436</td>\n",
       "      <td>473</td>\n",
       "      <td>437</td>\n",
       "    </tr>\n",
       "    <tr>\n",
       "      <th>9587</th>\n",
       "      <td>71</td>\n",
       "      <td>559</td>\n",
       "      <td>190</td>\n",
       "    </tr>\n",
       "    <tr>\n",
       "      <th>4037</th>\n",
       "      <td>936</td>\n",
       "      <td>476</td>\n",
       "      <td>144</td>\n",
       "    </tr>\n",
       "    <tr>\n",
       "      <th>4906</th>\n",
       "      <td>467</td>\n",
       "      <td>20</td>\n",
       "      <td>468</td>\n",
       "    </tr>\n",
       "  </tbody>\n",
       "</table>\n",
       "</div>"
      ],
      "text/plain": [
       "      col_1  col_2  col_3\n",
       "3796    207    171    422\n",
       "1510    436    473    437\n",
       "9587     71    559    190\n",
       "4037    936    476    144\n",
       "4906    467     20    468"
      ]
     },
     "execution_count": 12,
     "metadata": {},
     "output_type": "execute_result"
    }
   ],
   "source": [
    "rand_sample_df.head()"
   ]
  },
  {
   "cell_type": "markdown",
   "metadata": {},
   "source": [
    "### Simple random sample"
   ]
  },
  {
   "cell_type": "markdown",
   "metadata": {},
   "source": [
    "* Select a sample dataframe from population (df) of size 100\n",
    "* n = 100"
   ]
  },
  {
   "cell_type": "code",
   "execution_count": 13,
   "metadata": {},
   "outputs": [],
   "source": [
    "# dir(df)"
   ]
  },
  {
   "cell_type": "code",
   "execution_count": 14,
   "metadata": {},
   "outputs": [],
   "source": [
    "# ??df.sample\n",
    "# help(df.sample)"
   ]
  },
  {
   "cell_type": "code",
   "execution_count": 15,
   "metadata": {
    "scrolled": false
   },
   "outputs": [],
   "source": [
    "# rand_sample_df\n",
    "# dir(df)\n",
    "rand_sample_df = df.sample(n=100, random_state=42)"
   ]
  },
  {
   "cell_type": "code",
   "execution_count": 16,
   "metadata": {},
   "outputs": [
    {
     "data": {
      "text/plain": [
       "(100, 3)"
      ]
     },
     "execution_count": 16,
     "metadata": {},
     "output_type": "execute_result"
    }
   ],
   "source": [
    "# shape\n",
    "rand_sample_df.shape"
   ]
  },
  {
   "cell_type": "code",
   "execution_count": 17,
   "metadata": {
    "scrolled": false
   },
   "outputs": [
    {
     "data": {
      "text/html": [
       "<div>\n",
       "<style scoped>\n",
       "    .dataframe tbody tr th:only-of-type {\n",
       "        vertical-align: middle;\n",
       "    }\n",
       "\n",
       "    .dataframe tbody tr th {\n",
       "        vertical-align: top;\n",
       "    }\n",
       "\n",
       "    .dataframe thead th {\n",
       "        text-align: right;\n",
       "    }\n",
       "</style>\n",
       "<table border=\"1\" class=\"dataframe\">\n",
       "  <thead>\n",
       "    <tr style=\"text-align: right;\">\n",
       "      <th></th>\n",
       "      <th>col_1</th>\n",
       "      <th>col_2</th>\n",
       "      <th>col_3</th>\n",
       "    </tr>\n",
       "  </thead>\n",
       "  <tbody>\n",
       "    <tr>\n",
       "      <th>6252</th>\n",
       "      <td>675</td>\n",
       "      <td>955</td>\n",
       "      <td>81</td>\n",
       "    </tr>\n",
       "    <tr>\n",
       "      <th>4684</th>\n",
       "      <td>158</td>\n",
       "      <td>513</td>\n",
       "      <td>645</td>\n",
       "    </tr>\n",
       "    <tr>\n",
       "      <th>1731</th>\n",
       "      <td>777</td>\n",
       "      <td>816</td>\n",
       "      <td>474</td>\n",
       "    </tr>\n",
       "    <tr>\n",
       "      <th>4742</th>\n",
       "      <td>390</td>\n",
       "      <td>89</td>\n",
       "      <td>597</td>\n",
       "    </tr>\n",
       "    <tr>\n",
       "      <th>4521</th>\n",
       "      <td>714</td>\n",
       "      <td>39</td>\n",
       "      <td>426</td>\n",
       "    </tr>\n",
       "  </tbody>\n",
       "</table>\n",
       "</div>"
      ],
      "text/plain": [
       "      col_1  col_2  col_3\n",
       "6252    675    955     81\n",
       "4684    158    513    645\n",
       "1731    777    816    474\n",
       "4742    390     89    597\n",
       "4521    714     39    426"
      ]
     },
     "execution_count": 17,
     "metadata": {},
     "output_type": "execute_result"
    }
   ],
   "source": [
    "# head\n",
    "rand_sample_df.head()"
   ]
  },
  {
   "cell_type": "markdown",
   "metadata": {},
   "source": [
    "A descent way of sampling can be achieved by `frac`"
   ]
  },
  {
   "cell_type": "code",
   "execution_count": 18,
   "metadata": {
    "scrolled": false
   },
   "outputs": [],
   "source": [
    "# frac\n",
    "random_sample_df_f = df.sample(frac=0.1, random_state=20)"
   ]
  },
  {
   "cell_type": "code",
   "execution_count": 19,
   "metadata": {
    "scrolled": true
   },
   "outputs": [
    {
     "data": {
      "text/html": [
       "<div>\n",
       "<style scoped>\n",
       "    .dataframe tbody tr th:only-of-type {\n",
       "        vertical-align: middle;\n",
       "    }\n",
       "\n",
       "    .dataframe tbody tr th {\n",
       "        vertical-align: top;\n",
       "    }\n",
       "\n",
       "    .dataframe thead th {\n",
       "        text-align: right;\n",
       "    }\n",
       "</style>\n",
       "<table border=\"1\" class=\"dataframe\">\n",
       "  <thead>\n",
       "    <tr style=\"text-align: right;\">\n",
       "      <th></th>\n",
       "      <th>col_1</th>\n",
       "      <th>col_2</th>\n",
       "      <th>col_3</th>\n",
       "    </tr>\n",
       "  </thead>\n",
       "  <tbody>\n",
       "    <tr>\n",
       "      <th>9957</th>\n",
       "      <td>733</td>\n",
       "      <td>89</td>\n",
       "      <td>948</td>\n",
       "    </tr>\n",
       "    <tr>\n",
       "      <th>1687</th>\n",
       "      <td>304</td>\n",
       "      <td>223</td>\n",
       "      <td>674</td>\n",
       "    </tr>\n",
       "    <tr>\n",
       "      <th>2116</th>\n",
       "      <td>552</td>\n",
       "      <td>156</td>\n",
       "      <td>216</td>\n",
       "    </tr>\n",
       "    <tr>\n",
       "      <th>231</th>\n",
       "      <td>488</td>\n",
       "      <td>596</td>\n",
       "      <td>880</td>\n",
       "    </tr>\n",
       "    <tr>\n",
       "      <th>2780</th>\n",
       "      <td>654</td>\n",
       "      <td>230</td>\n",
       "      <td>592</td>\n",
       "    </tr>\n",
       "  </tbody>\n",
       "</table>\n",
       "</div>"
      ],
      "text/plain": [
       "      col_1  col_2  col_3\n",
       "9957    733     89    948\n",
       "1687    304    223    674\n",
       "2116    552    156    216\n",
       "231     488    596    880\n",
       "2780    654    230    592"
      ]
     },
     "execution_count": 19,
     "metadata": {},
     "output_type": "execute_result"
    }
   ],
   "source": [
    "# head\n",
    "random_sample_df_f.head()"
   ]
  },
  {
   "cell_type": "code",
   "execution_count": 20,
   "metadata": {
    "scrolled": false
   },
   "outputs": [
    {
     "data": {
      "text/plain": [
       "(1000, 3)"
      ]
     },
     "execution_count": 20,
     "metadata": {},
     "output_type": "execute_result"
    }
   ],
   "source": [
    "# shape\n",
    "random_sample_df_f.shape"
   ]
  },
  {
   "cell_type": "markdown",
   "metadata": {},
   "source": [
    "<center><h1>Predictive Analytics</h1></center>"
   ]
  },
  {
   "cell_type": "markdown",
   "metadata": {},
   "source": [
    "Predictive analytics encompasses a variety of statistical techniques from `data mining`, `predictive modelling`, and `machine learning`, that analyze current and historical facts to make predictions about future or otherwise unknown events.\n",
    "\n",
    "<br>\n",
    "\n",
    "<img src=\"http://bigdata-madesimple.com/wp-content/uploads/2016/09/Predictive-analytics.png\">\n",
    "\n",
    "<br>\n",
    "\n",
    "**Credits** - Image from http://bigdata-madesimple.com/"
   ]
  },
  {
   "cell_type": "markdown",
   "metadata": {},
   "source": [
    "### Machine Learning"
   ]
  },
  {
   "cell_type": "markdown",
   "metadata": {},
   "source": [
    "* ML is a technique followed to make a computer learn from the previous experience in order to make an assumption for the future outcome.\n",
    "* It can learn and adapt to the new data without any human intervention.\n",
    "* It needs prior training so that it can be tested to the new data."
   ]
  },
  {
   "cell_type": "markdown",
   "metadata": {},
   "source": [
    "### What is this???"
   ]
  },
  {
   "cell_type": "markdown",
   "metadata": {},
   "source": [
    "<img src=\"https://external-content.duckduckgo.com/iu/?u=http%3A%2F%2Fwww.webindia123.com%2Fpets%2Fcats%2Famerican.jpg\">"
   ]
  },
  {
   "cell_type": "markdown",
   "metadata": {},
   "source": [
    "### ML and Traditional Programming"
   ]
  },
  {
   "cell_type": "markdown",
   "metadata": {},
   "source": [
    "* **Traditional Programming** → Inputs are known, programer writes the logic to obtain the Output.\n",
    "\n",
    "<img src=\"https://raw.githubusercontent.com/msameeruddin/Data-Analysis-Python/main/6_DA_Sample_PA/traditional_programming.png\">\n",
    "\n",
    "<br>\n",
    "\n",
    "* **Machine Learning** → Inputs and Outputs are known, the algorithm tries to design it's own logic to map the inputs with the outputs.\n",
    "\n",
    "<img src=\"https://raw.githubusercontent.com/msameeruddin/Data-Analysis-Python/main/6_DA_Sample_PA/ml_programming.png\">\n",
    "\n",
    "<br>\n",
    "\n",
    "**Images by Author**"
   ]
  },
  {
   "cell_type": "markdown",
   "metadata": {},
   "source": [
    "### ML and Mathematics"
   ]
  },
  {
   "cell_type": "markdown",
   "metadata": {},
   "source": [
    "* ML is just the tip of the iceberg.\n",
    "* Math and Python code (algorithms) holding the iceberg is what we should be understanding.\n",
    "\n",
    "<br>\n",
    "\n",
    "<img src=\"https://external-content.duckduckgo.com/iu/?u=http%3A%2F%2Fwww.heathertforbes.com%2Fenewsletter%2Fimages%2Ficeberg.png&f=1&nofb=1\">\n",
    "\n",
    "<br>\n",
    "\n",
    "**Credits** - Image from Internet"
   ]
  },
  {
   "cell_type": "markdown",
   "metadata": {},
   "source": [
    "### Examples"
   ]
  },
  {
   "cell_type": "markdown",
   "metadata": {},
   "source": [
    "* Email spam detector\n",
    "* Auto-completion mode in the email\n",
    "* Google photoes classification\n",
    "* Weather forecasting - Time series prediction\n",
    "* ..."
   ]
  },
  {
   "cell_type": "markdown",
   "metadata": {},
   "source": [
    "### Types of ML"
   ]
  },
  {
   "cell_type": "markdown",
   "metadata": {},
   "source": [
    "* **Supervised Learning**\n",
    "    - The computer is presented with both example inputs and their respective outputs. The algorithm learns a general rule to map the inputs with the outputs.\n",
    "* **Unsupervised Learning**\n",
    "    - No outputs are given to the learning algorithm, instead the algorithm alone has to figure out the structure in the inputs and find the hidden patterns to get the final end.\n",
    "* **Reinforcement Learning**\n",
    "    - Works based on the reward system and the ultimate goal is to maximize the reward score."
   ]
  },
  {
   "cell_type": "markdown",
   "metadata": {},
   "source": [
    "### How much data do you really need for building a predictive model?"
   ]
  },
  {
   "cell_type": "markdown",
   "metadata": {},
   "source": [
    "Often times, we have been told that - to build a machine learning predictive model, we need to have large amounts of data. Well that depends ultimately.\n",
    "\n",
    "* Effective sampling is about maximizing the about (information) of the whole population from the sampling unit.\n",
    "* A small random probability sample, as long as it is truly random and not biased in any way, can have very high predictive power.\n",
    "* With less also, you can achieve more.\n",
    "\n",
    "**More information** → https://www.sv-europe.com/blog/predictive-analytics-much-data-really-need/"
   ]
  }
 ],
 "metadata": {
  "kernelspec": {
   "display_name": "Python 3",
   "language": "python",
   "name": "python3"
  },
  "language_info": {
   "codemirror_mode": {
    "name": "ipython",
    "version": 3
   },
   "file_extension": ".py",
   "mimetype": "text/x-python",
   "name": "python",
   "nbconvert_exporter": "python",
   "pygments_lexer": "ipython3",
   "version": "3.8.4"
  },
  "varInspector": {
   "cols": {
    "lenName": 16,
    "lenType": 16,
    "lenVar": 40
   },
   "kernels_config": {
    "python": {
     "delete_cmd_postfix": "",
     "delete_cmd_prefix": "del ",
     "library": "var_list.py",
     "varRefreshCmd": "print(var_dic_list())"
    },
    "r": {
     "delete_cmd_postfix": ") ",
     "delete_cmd_prefix": "rm(",
     "library": "var_list.r",
     "varRefreshCmd": "cat(var_dic_list()) "
    }
   },
   "types_to_exclude": [
    "module",
    "function",
    "builtin_function_or_method",
    "instance",
    "_Feature"
   ],
   "window_display": false
  }
 },
 "nbformat": 4,
 "nbformat_minor": 4
}
