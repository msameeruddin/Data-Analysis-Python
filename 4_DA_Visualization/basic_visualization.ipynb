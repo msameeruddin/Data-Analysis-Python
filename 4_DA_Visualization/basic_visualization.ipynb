{
 "cells": [
  {
   "cell_type": "markdown",
   "metadata": {},
   "source": [
    "### Today's Agenda\n",
    "\n",
    "* Python Libraries for DA\n",
    "* Codes and Examples of various statistical measurements\n",
    "    - Blog Link → https://msameeruddin.hashnode.dev/5-statistical-measures-for-exploratory-data-analysis\n",
    "* Data Visualization\n",
    "* Outlier Detection\n",
    "    - Blog Link → https://msameeruddin.hashnode.dev/6-how-to-detect-outliers-like-a-detective"
   ]
  },
  {
   "cell_type": "markdown",
   "metadata": {},
   "source": [
    "### Python tools for Data Analysis"
   ]
  },
  {
   "cell_type": "markdown",
   "metadata": {},
   "source": [
    "<img src=\"http://makemeanalyst.com/wp-content/uploads/2017/09/Python-libraries-for-data-analysis.png\">\n",
    "\n",
    "<br>\n",
    "\n",
    "**Credits** - Image from Internet"
   ]
  },
  {
   "cell_type": "markdown",
   "metadata": {},
   "source": [
    "### Other libraries"
   ]
  },
  {
   "cell_type": "markdown",
   "metadata": {},
   "source": [
    "* OpenCV\n",
    "* Pandas Profiling\n",
    "* GeoPandas\n",
    "* BioPandas\n",
    "* Plotly\n",
    "* Statsmodels\n",
    "* Statistics\n",
    "* Tensorflow\n",
    "* Pytorch\n",
    "* - \n",
    "* Dash\n",
    "* Flask"
   ]
  },
  {
   "cell_type": "markdown",
   "metadata": {},
   "source": [
    "### Basic Statistics\n",
    "\n",
    "The detailed blog on the same → https://msameeruddin.hashnode.dev/5-statistical-measures-for-exploratory-data-analysis"
   ]
  },
  {
   "cell_type": "markdown",
   "metadata": {},
   "source": [
    "* Mean → Average of all the data values\n",
    "    - Sum of all data values divided by total number of data values\n",
    "* Median → The value separating the higher half from the lower half of the data\n",
    "* Mode → The value that appears most frequently in the data set\n",
    "\n",
    "* Standard deviation → Used to measure of the amount of variation or dispersion of set of values\n",
    "     - Low standard deviation → All values very close to mean\n",
    "     - High standard deviation → All values are far from the mean\n",
    "\n",
    "<!--* Variance → Used to measure how far the data values are spread out from the mean -->"
   ]
  },
  {
   "cell_type": "code",
   "execution_count": null,
   "metadata": {},
   "outputs": [],
   "source": []
  },
  {
   "cell_type": "markdown",
   "metadata": {},
   "source": [
    "### Pandas Profiling example"
   ]
  },
  {
   "cell_type": "code",
   "execution_count": 1,
   "metadata": {},
   "outputs": [],
   "source": [
    "# import pandas_profiling as pp\n",
    "# import pandas as pd\n",
    "\n",
    "# source = 'https://raw.githubusercontent.com/msameeruddin/Data-Analysis-Python/main/4_DA_Visualization/students_hw.csv'\n",
    "# df = pd.read_csv(source)\n",
    "# # ---------\n",
    "# profile = pp.ProfileReport(df)\n",
    "# profile.to_file(\"output.html\")"
   ]
  },
  {
   "cell_type": "markdown",
   "metadata": {},
   "source": [
    "### Important Packages\n",
    "\n",
    "* Installation process\n",
    "\n",
    "```sh\n",
    "py -m pip install scipy numpy pandas matplotlib plotly pandas-profiling statsmodels --user\n",
    "```"
   ]
  },
  {
   "cell_type": "code",
   "execution_count": null,
   "metadata": {},
   "outputs": [],
   "source": []
  },
  {
   "cell_type": "markdown",
   "metadata": {},
   "source": [
    "### `import` the necessary packages"
   ]
  },
  {
   "cell_type": "code",
   "execution_count": 2,
   "metadata": {},
   "outputs": [],
   "source": [
    "import pandas as pd\n",
    "import numpy as np\n",
    "from scipy import stats"
   ]
  },
  {
   "cell_type": "markdown",
   "metadata": {},
   "source": [
    "### Mean"
   ]
  },
  {
   "cell_type": "code",
   "execution_count": 3,
   "metadata": {},
   "outputs": [
    {
     "name": "stdout",
     "output_type": "stream",
     "text": [
      "3.4285714285714284\n"
     ]
    }
   ],
   "source": [
    "# show example\n",
    "data = [5, 6, 1, -10, 4, 8, 10]\n",
    "mean_val = np.mean(data)\n",
    "print(mean_val)"
   ]
  },
  {
   "cell_type": "markdown",
   "metadata": {},
   "source": [
    "### Median"
   ]
  },
  {
   "cell_type": "markdown",
   "metadata": {},
   "source": [
    "Procedure - \n",
    "\n",
    "* First sort the values\n",
    "* If the total number of values is odd\n",
    "    - Take the middle value\n",
    "* If the total number of values is even\n",
    "    - Take the two middle values\n",
    "    - Find the average of those two middle values"
   ]
  },
  {
   "cell_type": "code",
   "execution_count": 4,
   "metadata": {},
   "outputs": [
    {
     "name": "stdout",
     "output_type": "stream",
     "text": [
      "7.0\n"
     ]
    }
   ],
   "source": [
    "# show example\n",
    "data = [5, 6, 1, -10, 4, 8, 10, 9, 100, 32]\n",
    "median_val = np.median(data)\n",
    "print(median_val)"
   ]
  },
  {
   "cell_type": "markdown",
   "metadata": {},
   "source": [
    "### Mode"
   ]
  },
  {
   "cell_type": "code",
   "execution_count": 5,
   "metadata": {},
   "outputs": [
    {
     "name": "stdout",
     "output_type": "stream",
     "text": [
      "ModeResult(mode=array([4]), count=array([5]))\n"
     ]
    }
   ],
   "source": [
    "data = [1, 1, 2, 3, 4, 4, 4, 4, 4, 5, 6, 7, 8, 8, 8, 9, 8]\n",
    "mode_val = stats.mode(data)\n",
    "print(mode_val)"
   ]
  },
  {
   "cell_type": "code",
   "execution_count": 6,
   "metadata": {},
   "outputs": [
    {
     "name": "stdout",
     "output_type": "stream",
     "text": [
      "[4]\n"
     ]
    }
   ],
   "source": [
    "mode_val = stats.mode(data)[0]\n",
    "print(mode_val)"
   ]
  },
  {
   "cell_type": "code",
   "execution_count": 7,
   "metadata": {},
   "outputs": [
    {
     "name": "stdout",
     "output_type": "stream",
     "text": [
      "4\n"
     ]
    }
   ],
   "source": [
    "mode_val = stats.mode(data)[0][0]\n",
    "print(mode_val)"
   ]
  },
  {
   "cell_type": "markdown",
   "metadata": {},
   "source": [
    "### Standard deviation\n",
    "\n",
    "Formula\n",
    "\n",
    "## $$\\sigma = \\sqrt \\frac{\\sum (x_i - \\mu)^2}{N} \\rightarrow i = 1, 2, 3, \\dots n$$\n",
    "\n",
    "where\n",
    "\n",
    "* $\\sigma$ = Standard deviation\n",
    "* $x_i$ = each data value\n",
    "* $\\mu$ = Mean\n",
    "* $N$ = Total size of the data"
   ]
  },
  {
   "cell_type": "code",
   "execution_count": 8,
   "metadata": {},
   "outputs": [
    {
     "name": "stdout",
     "output_type": "stream",
     "text": [
      "6.091144458665098\n"
     ]
    }
   ],
   "source": [
    "data = [5, 6, 1, -10, 4, 8, 10]\n",
    "std_val = np.std(data)\n",
    "print(std_val)"
   ]
  },
  {
   "cell_type": "markdown",
   "metadata": {},
   "source": [
    "<!-- ### Variance\n",
    "\n",
    "```python\n",
    "def calculate_variance(data_values):\n",
    "    return np.var(a=data_values)\n",
    "``` -->"
   ]
  },
  {
   "cell_type": "markdown",
   "metadata": {},
   "source": [
    "* variance → $\\sigma ^ 2$\n",
    "* median absolute deviation\n",
    "* covariance\n",
    "* correlation"
   ]
  },
  {
   "cell_type": "code",
   "execution_count": null,
   "metadata": {},
   "outputs": [],
   "source": []
  },
  {
   "cell_type": "markdown",
   "metadata": {},
   "source": [
    "<h1><center>Data visualization</center></h1>"
   ]
  },
  {
   "cell_type": "code",
   "execution_count": 9,
   "metadata": {},
   "outputs": [],
   "source": [
    "from matplotlib import pyplot as plt"
   ]
  },
  {
   "cell_type": "markdown",
   "metadata": {},
   "source": [
    "### Line Plot"
   ]
  },
  {
   "cell_type": "code",
   "execution_count": 10,
   "metadata": {
    "scrolled": false
   },
   "outputs": [
    {
     "data": {
      "image/png": "[encoded data removed]",
      "text/plain": [
       "<Figure size 720x288 with 1 Axes>"
      ]
     },
     "metadata": {
      "needs_background": "light"
     },
     "output_type": "display_data"
    }
   ],
   "source": [
    "x = [1, 2, 3, 4, 5, 6, 7, 9, 10]\n",
    "y = [3, 5, 2, 7, 4, 3, 8, 6, 9]\n",
    "\n",
    "# show example\n",
    "plt.figure(figsize=(10, 4))\n",
    "plt.plot(x, y)\n",
    "plt.show()"
   ]
  },
  {
   "cell_type": "markdown",
   "metadata": {},
   "source": [
    "### Scatter Plot"
   ]
  },
  {
   "cell_type": "code",
   "execution_count": 11,
   "metadata": {
    "scrolled": true
   },
   "outputs": [
    {
     "data": {
      "image/png": "[encoded data removed]",
      "text/plain": [
       "<Figure size 720x288 with 1 Axes>"
      ]
     },
     "metadata": {
      "needs_background": "light"
     },
     "output_type": "display_data"
    }
   ],
   "source": [
    "x = [1, 2, 3, 4, 5, 6, 7, 9, 10]\n",
    "y = [3, 5, 2, 7, 4, 3, 8, 6, 9]\n",
    "\n",
    "# show example\n",
    "plt.figure(figsize=(10, 4))\n",
    "plt.scatter(x, y)\n",
    "plt.show()"
   ]
  },
  {
   "cell_type": "markdown",
   "metadata": {},
   "source": [
    "### Line and Scatter together"
   ]
  },
  {
   "cell_type": "code",
   "execution_count": 12,
   "metadata": {},
   "outputs": [
    {
     "data": {
      "image/png": "[encoded data removed]",
      "text/plain": [
       "<Figure size 720x288 with 1 Axes>"
      ]
     },
     "metadata": {
      "needs_background": "light"
     },
     "output_type": "display_data"
    }
   ],
   "source": [
    "x = [1, 2, 3, 4, 5, 6, 7, 9, 10]\n",
    "y = [i**3 for i in x]\n",
    "\n",
    "# show example\n",
    "plt.figure(figsize=(10, 4))\n",
    "plt.plot(x, y, 'o--', color='green')\n",
    "plt.show()"
   ]
  },
  {
   "cell_type": "markdown",
   "metadata": {},
   "source": [
    "### Read data\n",
    "\n",
    "* data source - https://raw.githubusercontent.com/msameeruddin/Data-Analysis-Python/main/4_DA_Visualization/students_hw.csv"
   ]
  },
  {
   "cell_type": "code",
   "execution_count": 13,
   "metadata": {},
   "outputs": [
    {
     "data": {
      "text/html": [
       "<div>\n",
       "<style scoped>\n",
       "    .dataframe tbody tr th:only-of-type {\n",
       "        vertical-align: middle;\n",
       "    }\n",
       "\n",
       "    .dataframe tbody tr th {\n",
       "        vertical-align: top;\n",
       "    }\n",
       "\n",
       "    .dataframe thead th {\n",
       "        text-align: right;\n",
       "    }\n",
       "</style>\n",
       "<table border=\"1\" class=\"dataframe\">\n",
       "  <thead>\n",
       "    <tr style=\"text-align: right;\">\n",
       "      <th></th>\n",
       "      <th>Height(Inches)</th>\n",
       "      <th>Weight(Pounds)</th>\n",
       "    </tr>\n",
       "  </thead>\n",
       "  <tbody>\n",
       "    <tr>\n",
       "      <th>0</th>\n",
       "      <td>65.78</td>\n",
       "      <td>112.99</td>\n",
       "    </tr>\n",
       "    <tr>\n",
       "      <th>1</th>\n",
       "      <td>71.52</td>\n",
       "      <td>136.49</td>\n",
       "    </tr>\n",
       "    <tr>\n",
       "      <th>2</th>\n",
       "      <td>69.40</td>\n",
       "      <td>153.03</td>\n",
       "    </tr>\n",
       "    <tr>\n",
       "      <th>3</th>\n",
       "      <td>68.22</td>\n",
       "      <td>142.34</td>\n",
       "    </tr>\n",
       "    <tr>\n",
       "      <th>4</th>\n",
       "      <td>67.79</td>\n",
       "      <td>144.30</td>\n",
       "    </tr>\n",
       "  </tbody>\n",
       "</table>\n",
       "</div>"
      ],
      "text/plain": [
       "   Height(Inches)  Weight(Pounds)\n",
       "0           65.78          112.99\n",
       "1           71.52          136.49\n",
       "2           69.40          153.03\n",
       "3           68.22          142.34\n",
       "4           67.79          144.30"
      ]
     },
     "execution_count": 13,
     "metadata": {},
     "output_type": "execute_result"
    }
   ],
   "source": [
    "df = pd.read_csv('https://raw.githubusercontent.com/msameeruddin/Data-Analysis-Python/main/4_DA_Visualization/students_hw.csv')\n",
    "df.head()"
   ]
  },
  {
   "cell_type": "markdown",
   "metadata": {},
   "source": [
    "### Heights → Mean, Median, Mode"
   ]
  },
  {
   "cell_type": "code",
   "execution_count": 14,
   "metadata": {},
   "outputs": [],
   "source": [
    "x_list = df['Height(Inches)'].to_list()\n",
    "y_list = [0 for i in range(len(x_list))]"
   ]
  },
  {
   "cell_type": "code",
   "execution_count": 15,
   "metadata": {},
   "outputs": [
    {
     "name": "stdout",
     "output_type": "stream",
     "text": [
      "[65.78, 71.52, 69.4, 68.22, 67.79, 68.7, 69.8, 70.01, 67.9, 66.78, 66.49, 67.62, 68.3, 67.12, 68.28, 71.09, 66.46, 68.65, 71.23, 67.13, 67.83, 68.88, 63.48, 68.42, 67.63, 67.21, 70.84, 67.49, 66.53, 65.44, 69.52, 65.81, 67.82, 70.6, 71.8, 69.21, 66.8, 67.66, 67.81, 64.05, 68.57, 65.18, 69.66, 67.97, 65.98, 68.67, 66.88, 67.7, 69.82, 69.09, 69.91, 67.33, 70.27, 69.1, 65.38, 70.18, 70.41, 66.54, 66.36, 67.54, 66.5, 69.0, 68.3, 67.01, 70.81, 68.22, 69.06, 67.73, 67.22, 67.37, 65.27, 70.84, 69.92, 64.29, 68.25, 66.36, 68.36, 65.48, 69.72, 67.73, 68.64, 66.78, 70.05, 66.28, 69.2, 69.13, 67.36, 70.09, 70.18, 68.23, 68.13, 70.24, 71.49, 69.2, 70.06, 70.56, 66.29, 63.43, 66.77, 68.89, 64.87, 67.09, 68.35, 65.61, 67.76, 68.02, 67.66, 66.31, 69.44, 63.84, 67.72, 70.05, 70.19, 65.95, 70.01, 68.61, 68.81, 69.76, 65.46, 68.83, 65.8, 67.21, 69.42, 68.94, 67.94, 65.63, 66.5, 67.93, 68.89, 70.24, 68.27, 71.23, 69.1, 64.4, 71.1, 68.22, 65.92, 67.44, 73.9, 69.98, 69.52, 65.18, 68.01, 68.34, 65.18, 68.26, 68.57, 64.5, 68.71, 68.89, 69.54, 67.4, 66.48, 66.01, 72.44, 64.13, 70.98, 67.5, 72.02, 65.31, 67.08, 64.39, 69.37, 68.38, 65.31, 67.14, 68.39, 66.29, 67.19, 65.99, 69.43, 67.97, 67.76, 65.28, 73.83, 66.81, 66.89, 65.74, 65.98, 66.58, 67.11, 65.87, 66.78, 68.74, 66.23, 65.96, 68.58, 66.59, 66.97, 68.08, 70.19, 65.52, 67.46, 67.41, 69.66, 65.8, 66.11, 68.24, 68.02, 71.39]\n"
     ]
    }
   ],
   "source": [
    "print(x_list)"
   ]
  },
  {
   "cell_type": "code",
   "execution_count": 16,
   "metadata": {},
   "outputs": [
    {
     "name": "stdout",
     "output_type": "stream",
     "text": [
      "[0, 0, 0, 0, 0, 0, 0, 0, 0, 0, 0, 0, 0, 0, 0, 0, 0, 0, 0, 0, 0, 0, 0, 0, 0, 0, 0, 0, 0, 0, 0, 0, 0, 0, 0, 0, 0, 0, 0, 0, 0, 0, 0, 0, 0, 0, 0, 0, 0, 0, 0, 0, 0, 0, 0, 0, 0, 0, 0, 0, 0, 0, 0, 0, 0, 0, 0, 0, 0, 0, 0, 0, 0, 0, 0, 0, 0, 0, 0, 0, 0, 0, 0, 0, 0, 0, 0, 0, 0, 0, 0, 0, 0, 0, 0, 0, 0, 0, 0, 0, 0, 0, 0, 0, 0, 0, 0, 0, 0, 0, 0, 0, 0, 0, 0, 0, 0, 0, 0, 0, 0, 0, 0, 0, 0, 0, 0, 0, 0, 0, 0, 0, 0, 0, 0, 0, 0, 0, 0, 0, 0, 0, 0, 0, 0, 0, 0, 0, 0, 0, 0, 0, 0, 0, 0, 0, 0, 0, 0, 0, 0, 0, 0, 0, 0, 0, 0, 0, 0, 0, 0, 0, 0, 0, 0, 0, 0, 0, 0, 0, 0, 0, 0, 0, 0, 0, 0, 0, 0, 0, 0, 0, 0, 0, 0, 0, 0, 0, 0, 0]\n"
     ]
    }
   ],
   "source": [
    "print(y_list)"
   ]
  },
  {
   "cell_type": "code",
   "execution_count": 17,
   "metadata": {},
   "outputs": [
    {
     "name": "stdout",
     "output_type": "stream",
     "text": [
      "67.9498\n",
      "67.935\n",
      "65.18\n"
     ]
    }
   ],
   "source": [
    "mean_val = np.mean(x_list)\n",
    "median_val = np.median(x_list)\n",
    "mode_val = stats.mode(x_list)[0][0]\n",
    "print(mean_val)\n",
    "print(median_val)\n",
    "print(mode_val)"
   ]
  },
  {
   "cell_type": "code",
   "execution_count": 18,
   "metadata": {
    "scrolled": false
   },
   "outputs": [
    {
     "data": {
      "image/png": "[encoded data removed]",
      "text/plain": [
       "<Figure size 1080x216 with 1 Axes>"
      ]
     },
     "metadata": {
      "needs_background": "light"
     },
     "output_type": "display_data"
    }
   ],
   "source": [
    "plt.figure(figsize=(15, 3))\n",
    "\n",
    "plt.yticks([])\n",
    "\n",
    "plt.scatter(x_list, y_list, label='Data Values')\n",
    "\n",
    "plt.axvline(x=mean_val, ymin=0.3, ymax=0.7, ls='--', color='black', label='Mean')\n",
    "plt.axvline(x=median_val, ymin=0.3, ymax=0.7, ls='--', color='magenta', label='Median')\n",
    "plt.axvline(x=mode_val, ymin=0.3, ymax=0.7, ls='--', color='cyan', label='Mode')\n",
    "\n",
    "plt.legend()\n",
    "\n",
    "plt.show()"
   ]
  },
  {
   "cell_type": "code",
   "execution_count": null,
   "metadata": {},
   "outputs": [],
   "source": []
  },
  {
   "cell_type": "markdown",
   "metadata": {},
   "source": [
    "### Weights → Mean, Median, Mode"
   ]
  },
  {
   "cell_type": "code",
   "execution_count": 19,
   "metadata": {},
   "outputs": [],
   "source": [
    "x_list = df['Weight(Pounds)'].to_list()\n",
    "y_list = [0 for i in range(len(x_list))]"
   ]
  },
  {
   "cell_type": "code",
   "execution_count": 20,
   "metadata": {},
   "outputs": [
    {
     "name": "stdout",
     "output_type": "stream",
     "text": [
      "127.22194999999999\n",
      "127.875\n",
      "123.49\n"
     ]
    }
   ],
   "source": [
    "mean_val = np.mean(x_list)\n",
    "median_val = np.median(x_list)\n",
    "mode_val = stats.mode(x_list)[0][0]\n",
    "print(mean_val)\n",
    "print(median_val)\n",
    "print(mode_val)"
   ]
  },
  {
   "cell_type": "code",
   "execution_count": 21,
   "metadata": {
    "scrolled": false
   },
   "outputs": [
    {
     "data": {
      "image/png": "[encoded data removed]",
      "text/plain": [
       "<Figure size 1080x216 with 1 Axes>"
      ]
     },
     "metadata": {
      "needs_background": "light"
     },
     "output_type": "display_data"
    }
   ],
   "source": [
    "plt.figure(figsize=(15, 3))\n",
    "\n",
    "plt.yticks([])\n",
    "\n",
    "plt.scatter(x_list, y_list, label='Data Values')\n",
    "\n",
    "plt.axvline(x=mean_val, ymin=0.3, ymax=0.7, ls='--', color='black', label='Mean')\n",
    "plt.axvline(x=median_val, ymin=0.3, ymax=0.7, ls='--', color='magenta', label='Median')\n",
    "plt.axvline(x=mode_val, ymin=0.3, ymax=0.7, ls='--', color='cyan', label='Mode')\n",
    "\n",
    "plt.legend()\n",
    "\n",
    "plt.show()"
   ]
  },
  {
   "cell_type": "code",
   "execution_count": null,
   "metadata": {},
   "outputs": [],
   "source": []
  },
  {
   "cell_type": "markdown",
   "metadata": {},
   "source": [
    "### Outliers\n",
    "\n",
    "* An outlier is a data point that differs significantly from other data values"
   ]
  },
  {
   "cell_type": "code",
   "execution_count": 22,
   "metadata": {},
   "outputs": [],
   "source": [
    "x = [1, 2, 3, 4, 5, 6, 7, 9, 10, 50, 5, 6, 9, 4, 7]\n",
    "y = [3, 5, 2, 7, 4, 3, 8, 6, 9, 65, 6, 8, 3, 6, 9]"
   ]
  },
  {
   "cell_type": "markdown",
   "metadata": {},
   "source": [
    "### How can we detect outliers?\n",
    "\n",
    "The detailed blog on the same → https://msameeruddin.hashnode.dev/6-how-to-detect-outliers-like-a-detective\n",
    "\n",
    "1. By graphing \n",
    "    - scatter plot \n",
    "    - box plot\n",
    "\n",
    "2. By calculating z_score values\n",
    "\n",
    "    - if z_score value is $> 3$ → reject\n",
    "    - if z_score value is $< -3$ → reject\n",
    "\n",
    "Formula\n",
    "\n",
    "## $$z = \\frac{(x_i - \\mu)}{\\sigma} \\rightarrow i = 1, 2, 3 \\dots n$$\n",
    "\n",
    "where\n",
    "\n",
    "* $\\mu$ = Mean\n",
    "* $\\sigma$ = Standard deviation\n",
    "* $x_i$ = each data value"
   ]
  },
  {
   "cell_type": "markdown",
   "metadata": {},
   "source": [
    "### 1 -  a) scatter plot"
   ]
  },
  {
   "cell_type": "code",
   "execution_count": 23,
   "metadata": {
    "scrolled": false
   },
   "outputs": [
    {
     "data": {
      "image/png": "[encoded data removed]",
      "text/plain": [
       "<Figure size 720x288 with 1 Axes>"
      ]
     },
     "metadata": {
      "needs_background": "light"
     },
     "output_type": "display_data"
    }
   ],
   "source": [
    "# size (10, 4)\n",
    "plt.figure(figsize=(10, 4))\n",
    "plt.scatter(x, y)\n",
    "plt.show()"
   ]
  },
  {
   "cell_type": "markdown",
   "metadata": {},
   "source": [
    "### 1 - b) box plot"
   ]
  },
  {
   "cell_type": "code",
   "execution_count": 24,
   "metadata": {
    "scrolled": false
   },
   "outputs": [
    {
     "data": {
      "image/png": "[encoded data removed]",
      "text/plain": [
       "<Figure size 720x288 with 1 Axes>"
      ]
     },
     "metadata": {
      "needs_background": "light"
     },
     "output_type": "display_data"
    }
   ],
   "source": [
    "# size (10, 4) - x\n",
    "plt.figure(figsize=(10, 4))\n",
    "plt.boxplot(x)\n",
    "plt.show()"
   ]
  },
  {
   "cell_type": "code",
   "execution_count": 25,
   "metadata": {
    "scrolled": false
   },
   "outputs": [
    {
     "data": {
      "image/png": "[encoded data removed]",
      "text/plain": [
       "<Figure size 720x288 with 1 Axes>"
      ]
     },
     "metadata": {
      "needs_background": "light"
     },
     "output_type": "display_data"
    }
   ],
   "source": [
    "# size (10, 4) - y\n",
    "plt.figure(figsize=(10, 4))\n",
    "plt.boxplot(y)\n",
    "plt.show()"
   ]
  },
  {
   "cell_type": "markdown",
   "metadata": {},
   "source": [
    "### 2 - zscore method"
   ]
  },
  {
   "cell_type": "code",
   "execution_count": 26,
   "metadata": {},
   "outputs": [],
   "source": [
    "def calculate_zscores(data_values):\n",
    "    # array\n",
    "    data_array = np.array(data_values)\n",
    "    \n",
    "    # mean\n",
    "    mean_val = np.mean(data_array)\n",
    "    \n",
    "    # standard deviation\n",
    "    std_dev = np.std(data_array)\n",
    "    \n",
    "    # applying the formula for all the values\n",
    "    z_scores = (data_array - mean_val) / std_dev\n",
    "    \n",
    "    return z_scores"
   ]
  },
  {
   "cell_type": "code",
   "execution_count": 27,
   "metadata": {
    "scrolled": true
   },
   "outputs": [
    {
     "name": "stdout",
     "output_type": "stream",
     "text": [
      "[-0.66314737 -0.57511896 -0.48709054 -0.39906213 -0.31103372 -0.22300531\n",
      " -0.1349769   0.04107993  0.12910834  3.6502448  -0.31103372 -0.22300531\n",
      "  0.04107993 -0.39906213 -0.1349769 ]\n"
     ]
    }
   ],
   "source": [
    "z_x = calculate_zscores(data_values=x)\n",
    "print(z_x)"
   ]
  },
  {
   "cell_type": "code",
   "execution_count": 28,
   "metadata": {},
   "outputs": [],
   "source": [
    "def get_outlier_vals(data_values):\n",
    "    # z_score values of all the data values\n",
    "    z_scores = calculate_zscores(data_values=data_values)\n",
    "    \n",
    "    # get the index of the outlier\n",
    "    # whose value is > 3\n",
    "    # whose value is < -3\n",
    "    inds = list(np.where(z_scores < -3)[0])\n",
    "    inds.extend(list(np.where(z_scores > 3)[0]))\n",
    "    \n",
    "    outlier_vals = [data_values[i] for i in sorted(inds)]\n",
    "    \n",
    "    return outlier_vals"
   ]
  },
  {
   "cell_type": "code",
   "execution_count": 29,
   "metadata": {
    "scrolled": false
   },
   "outputs": [
    {
     "name": "stdout",
     "output_type": "stream",
     "text": [
      "[50]\n"
     ]
    }
   ],
   "source": [
    "out_x = get_outlier_vals(data_values=x)\n",
    "print(out_x)"
   ]
  },
  {
   "cell_type": "code",
   "execution_count": 30,
   "metadata": {
    "scrolled": false
   },
   "outputs": [
    {
     "name": "stdout",
     "output_type": "stream",
     "text": [
      "[65]\n"
     ]
    }
   ],
   "source": [
    "out_y = get_outlier_vals(data_values=y)\n",
    "print(out_y)"
   ]
  },
  {
   "cell_type": "code",
   "execution_count": 31,
   "metadata": {},
   "outputs": [],
   "source": [
    "heights = df['Height(Inches)'].to_list()\n",
    "weights = df['Weight(Pounds)'].to_list()"
   ]
  },
  {
   "cell_type": "code",
   "execution_count": 32,
   "metadata": {},
   "outputs": [
    {
     "name": "stdout",
     "output_type": "stream",
     "text": [
      "[73.9, 73.83]\n"
     ]
    }
   ],
   "source": [
    "out_heights = get_outlier_vals(data_values=heights)\n",
    "print(out_heights)"
   ]
  },
  {
   "cell_type": "code",
   "execution_count": 33,
   "metadata": {},
   "outputs": [
    {
     "name": "stdout",
     "output_type": "stream",
     "text": [
      "[]\n"
     ]
    }
   ],
   "source": [
    "out_weights = get_outlier_vals(data_values=weights)\n",
    "print(out_weights)"
   ]
  },
  {
   "cell_type": "markdown",
   "metadata": {},
   "source": [
    "### What did we learn?\n",
    "\n",
    "* Statistical Measurements\n",
    "* Python libraries for DA\n",
    "* Visualization\n",
    "* Visualization of the dataset\n",
    "* Outlier detection"
   ]
  }
 ],
 "metadata": {
  "kernelspec": {
   "display_name": "Python 3",
   "language": "python",
   "name": "python3"
  },
  "language_info": {
   "codemirror_mode": {
    "name": "ipython",
    "version": 3
   },
   "file_extension": ".py",
   "mimetype": "text/x-python",
   "name": "python",
   "nbconvert_exporter": "python",
   "pygments_lexer": "ipython3",
   "version": "3.8.4"
  },
  "toc": {
   "base_numbering": 1,
   "nav_menu": {
    "height": "16px",
    "width": "200px"
   },
   "number_sections": true,
   "sideBar": true,
   "skip_h1_title": false,
   "title_cell": "Table of Contents",
   "title_sidebar": "Contents",
   "toc_cell": false,
   "toc_position": {},
   "toc_section_display": true,
   "toc_window_display": true
  }
 },
 "nbformat": 4,
 "nbformat_minor": 4
}
