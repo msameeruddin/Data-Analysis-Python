{
 "cells": [
  {
   "cell_type": "markdown",
   "metadata": {},
   "source": [
    "<center><h1>Data Preprocessing - Data Analysis</h1></center>"
   ]
  },
  {
   "cell_type": "markdown",
   "metadata": {},
   "source": [
    "### Data Preprocessing"
   ]
  },
  {
   "cell_type": "markdown",
   "metadata": {},
   "source": [
    "It is used for maintaining the **Quality** of the data. It includes important factors like - \n",
    "\n",
    "* Selecting the valid data variables\n",
    "* Data editing is important in some aspects\n",
    "* Maintaining uniformity in data values\n",
    "* Manipulation of the data for achieving the above factors (Data Wrangling)\n",
    "\n",
    "<img src=\"https://miro.medium.com/max/1400/1*FXy7iopWSzMTJX1LoAlr5A.png\">\n",
    "\n",
    "<br>\n",
    "\n",
    "**Credits** - Image from Internet"
   ]
  },
  {
   "cell_type": "code",
   "execution_count": null,
   "metadata": {},
   "outputs": [],
   "source": []
  },
  {
   "cell_type": "markdown",
   "metadata": {},
   "source": [
    "<center><h1>Classroom Management</h1></center>"
   ]
  },
  {
   "cell_type": "markdown",
   "metadata": {},
   "source": [
    "Imagine you are the new teacher freshly appointed to manage the classroom.\n",
    "\n",
    "You want to know how many students are good in - \n",
    "\n",
    "    1. sports\n",
    "    2. academics\n",
    "    3. creative work\n",
    "    4. marketing\n",
    "\n",
    "Based on the students data, you have to conclude **who** can do well in **what**."
   ]
  },
  {
   "cell_type": "markdown",
   "metadata": {},
   "source": [
    "### Dataset description"
   ]
  },
  {
   "cell_type": "markdown",
   "metadata": {},
   "source": [
    "You are given the **data of the students** that included the following variables - \n",
    "\n",
    "* Age\n",
    "* Gender\n",
    "* Address\n",
    "* Father's occupation\n",
    "* Mother's occupation\n",
    "* Place of birth\n",
    "* Height - ft\n",
    "* Weight - kg\n",
    "* Prev sports performance\n",
    "* Prev academics performance\n",
    "* Voluntary experience\n",
    "* Extra co-curricular activities\n",
    "* Arts and Design\n",
    "\n",
    "**Note** - For our conveneince all the data values are numericals."
   ]
  },
  {
   "cell_type": "code",
   "execution_count": null,
   "metadata": {},
   "outputs": [],
   "source": []
  },
  {
   "cell_type": "markdown",
   "metadata": {},
   "source": [
    "How do we convert a **\" feeling \"** into a number?\n",
    "\n",
    "* We can measure a **\" feeling \"** into a number through a **\" scale range \"**\n",
    "* If the scale is **1** to **4**, then we can term - \n",
    "    - 1 → Not Satisfied\n",
    "    - 2 → Slightly Satisfied\n",
    "    - 3 → Satisfied\n",
    "    - 4 → Highly Satisfied"
   ]
  },
  {
   "cell_type": "code",
   "execution_count": null,
   "metadata": {},
   "outputs": [],
   "source": []
  },
  {
   "cell_type": "markdown",
   "metadata": {},
   "source": [
    "# Sports"
   ]
  },
  {
   "cell_type": "markdown",
   "metadata": {},
   "source": [
    "### Scenario 1"
   ]
  },
  {
   "cell_type": "markdown",
   "metadata": {},
   "source": [
    "Considering the variables that are direclty related - \n",
    "\n",
    "* Height\n",
    "* Weight\n",
    "* Prev sports performance\n",
    "\n",
    "Based on this, you can only get the information of a student irrespective of **gender**."
   ]
  },
  {
   "cell_type": "markdown",
   "metadata": {},
   "source": [
    "### Scenario 2"
   ]
  },
  {
   "cell_type": "markdown",
   "metadata": {},
   "source": [
    "Considering the other important factors like **gender** in order to categorize as per **Male related sports** and **Female related sports**.\n",
    "\n",
    "* Gender\n",
    "* Height\n",
    "* Weight\n",
    "* Prev sports performance\n",
    "\n",
    "1. Based on this, you can categorize the performance of students in sports by **Male** and **Female**.\n",
    "2. Visually, you can represent it by drawing pie chart.\n",
    "\n",
    "<img src=\"http://4.bp.blogspot.com/_cJl9tX6twx0/TJ-yejG4soI/AAAAAAAAAPg/ugTGsLz6Lwo/s1600/pie+chart+men+and+women+media..png\">\n",
    "\n",
    "<br>\n",
    "\n",
    "**Credits** - Image from Internet"
   ]
  },
  {
   "cell_type": "markdown",
   "metadata": {},
   "source": [
    "### Scenario 3"
   ]
  },
  {
   "cell_type": "markdown",
   "metadata": {},
   "source": [
    "If you want to do further research on how good the person is performing in other areas, you can do so by considering - \n",
    "\n",
    "* Gender\n",
    "* Height\n",
    "* Weight\n",
    "* Prev sports performance\n",
    "* Voluntary experience\n",
    "* Extra co-curricular activities\n",
    "* Prev academics performace (may be or may not be)\n",
    "\n",
    "1. With this, you conclude the overall students performance on sports\n",
    "2. Since you are a kind teacher and well wisher of student, you can give the student a proper career guidance."
   ]
  },
  {
   "cell_type": "code",
   "execution_count": null,
   "metadata": {},
   "outputs": [],
   "source": []
  },
  {
   "cell_type": "markdown",
   "metadata": {},
   "source": [
    "# Academics"
   ]
  },
  {
   "cell_type": "markdown",
   "metadata": {},
   "source": [
    "### Scenario 1"
   ]
  },
  {
   "cell_type": "markdown",
   "metadata": {},
   "source": [
    "Considering the variables that are directly related - \n",
    "\n",
    "* Prev academics peroformance\n",
    "\n",
    "Based on this, you can only get the information of student irrespective of **gender**."
   ]
  },
  {
   "cell_type": "markdown",
   "metadata": {},
   "source": [
    "### Scenario 2"
   ]
  },
  {
   "cell_type": "markdown",
   "metadata": {},
   "source": [
    "Considering the other important factors like **gender** to categorize **Male** and **Female** separately.\n",
    "\n",
    "* Gender\n",
    "* Prev academics performance\n",
    "\n",
    "1. Based on this, you can categorize the performance of students in academics by **Male** and **Female**.\n",
    "2. Visually, you can represent it by drawing pie chart.\n",
    "\n",
    "<img src=\"https://external-content.duckduckgo.com/iu/?u=https%3A%2F%2Fak2.picdn.net%2Fshutterstock%2Fvideos%2F9595112%2Fthumb%2F11.jpg%3Fip%3Dx480&f=1&nofb=1\">\n",
    "\n",
    "<br>\n",
    "\n",
    "**Credits** - Image from Internet"
   ]
  },
  {
   "cell_type": "markdown",
   "metadata": {},
   "source": [
    "### Scenario 3"
   ]
  },
  {
   "cell_type": "markdown",
   "metadata": {},
   "source": [
    "If you want to further research on why a particular student is **lagging behind** or **excelling ahead**, you can do so by considering - \n",
    "\n",
    "* Address\n",
    "* Father's occupation\n",
    "* Mother's occupation\n",
    "* Prev academics performance\n",
    "* Gender (for categorizing in terms of gender)\n",
    "\n",
    "and later on, you can decide whether to change your teaching methodology or not."
   ]
  },
  {
   "cell_type": "code",
   "execution_count": null,
   "metadata": {},
   "outputs": [],
   "source": []
  },
  {
   "cell_type": "markdown",
   "metadata": {},
   "source": [
    "**Note** - \n",
    "\n",
    "* Data Analyst should be wise enough to select the important data variables.\n",
    "* This helps to get proper insights pertaining to the problem statement that he/she is assigned to do."
   ]
  },
  {
   "cell_type": "code",
   "execution_count": null,
   "metadata": {},
   "outputs": [],
   "source": []
  },
  {
   "cell_type": "markdown",
   "metadata": {},
   "source": [
    "# Let's make our hands dirty\n",
    "\n",
    "data source → http://wiki.stat.ucla.edu/socr/index.php/SOCR_Data_Dinov_020108_HeightsWeights"
   ]
  },
  {
   "cell_type": "code",
   "execution_count": 1,
   "metadata": {},
   "outputs": [],
   "source": [
    "import pandas as pd\n",
    "import numpy as np"
   ]
  },
  {
   "cell_type": "code",
   "execution_count": 2,
   "metadata": {
    "scrolled": true
   },
   "outputs": [
    {
     "data": {
      "text/html": [
       "<div>\n",
       "<style scoped>\n",
       "    .dataframe tbody tr th:only-of-type {\n",
       "        vertical-align: middle;\n",
       "    }\n",
       "\n",
       "    .dataframe tbody tr th {\n",
       "        vertical-align: top;\n",
       "    }\n",
       "\n",
       "    .dataframe thead th {\n",
       "        text-align: right;\n",
       "    }\n",
       "</style>\n",
       "<table border=\"1\" class=\"dataframe\">\n",
       "  <thead>\n",
       "    <tr style=\"text-align: right;\">\n",
       "      <th></th>\n",
       "      <th>Height(Inches)</th>\n",
       "      <th>Weight(Pounds)</th>\n",
       "    </tr>\n",
       "  </thead>\n",
       "  <tbody>\n",
       "    <tr>\n",
       "      <th>0</th>\n",
       "      <td>65.78</td>\n",
       "      <td>112.99</td>\n",
       "    </tr>\n",
       "    <tr>\n",
       "      <th>1</th>\n",
       "      <td>71.52</td>\n",
       "      <td>136.49</td>\n",
       "    </tr>\n",
       "    <tr>\n",
       "      <th>2</th>\n",
       "      <td>69.40</td>\n",
       "      <td>153.03</td>\n",
       "    </tr>\n",
       "    <tr>\n",
       "      <th>3</th>\n",
       "      <td>68.22</td>\n",
       "      <td>142.34</td>\n",
       "    </tr>\n",
       "    <tr>\n",
       "      <th>4</th>\n",
       "      <td>67.79</td>\n",
       "      <td>144.30</td>\n",
       "    </tr>\n",
       "  </tbody>\n",
       "</table>\n",
       "</div>"
      ],
      "text/plain": [
       "   Height(Inches)  Weight(Pounds)\n",
       "0           65.78          112.99\n",
       "1           71.52          136.49\n",
       "2           69.40          153.03\n",
       "3           68.22          142.34\n",
       "4           67.79          144.30"
      ]
     },
     "execution_count": 2,
     "metadata": {},
     "output_type": "execute_result"
    }
   ],
   "source": [
    "df = pd.read_csv('students_hw.csv')\n",
    "df.head()"
   ]
  },
  {
   "cell_type": "markdown",
   "metadata": {},
   "source": [
    "### Check the length of the `df`"
   ]
  },
  {
   "cell_type": "code",
   "execution_count": 3,
   "metadata": {
    "scrolled": true
   },
   "outputs": [
    {
     "data": {
      "text/plain": [
       "(200, 2)"
      ]
     },
     "execution_count": 3,
     "metadata": {},
     "output_type": "execute_result"
    }
   ],
   "source": [
    "# shape\n",
    "df.shape"
   ]
  },
  {
   "cell_type": "markdown",
   "metadata": {},
   "source": [
    "# Data Preprocessing"
   ]
  },
  {
   "cell_type": "markdown",
   "metadata": {},
   "source": [
    "### Check for `NaN`"
   ]
  },
  {
   "cell_type": "code",
   "execution_count": 4,
   "metadata": {},
   "outputs": [
    {
     "data": {
      "text/plain": [
       "Height(Inches)    True\n",
       "Weight(Pounds)    True\n",
       "dtype: bool"
      ]
     },
     "execution_count": 4,
     "metadata": {},
     "output_type": "execute_result"
    }
   ],
   "source": [
    "# isnull().any()\n",
    "df.isnull().any()"
   ]
  },
  {
   "cell_type": "code",
   "execution_count": 5,
   "metadata": {},
   "outputs": [
    {
     "data": {
      "text/plain": [
       "Index(['Height(Inches)', 'Weight(Pounds)'], dtype='object')"
      ]
     },
     "execution_count": 5,
     "metadata": {},
     "output_type": "execute_result"
    }
   ],
   "source": [
    "# list of columns\n",
    "df.columns"
   ]
  },
  {
   "cell_type": "code",
   "execution_count": 6,
   "metadata": {},
   "outputs": [],
   "source": [
    "def check_for_nan(dframe):\n",
    "    \"\"\"\n",
    "    dframe → pandas data frame object\n",
    "    returns `nan_places` a dictionary of column names and the `nan_indices`\n",
    "    \"\"\"\n",
    "    nan_places = {}\n",
    "    \n",
    "    for col in dframe.columns:\n",
    "        indices = list(np.where(dframe[col].isnull())[0])\n",
    "        nan_places[col] = indices\n",
    "    \n",
    "    return nan_places"
   ]
  },
  {
   "cell_type": "code",
   "execution_count": 7,
   "metadata": {},
   "outputs": [
    {
     "data": {
      "text/plain": [
       "{'Height(Inches)': [10, 32], 'Weight(Pounds)': [19]}"
      ]
     },
     "execution_count": 7,
     "metadata": {},
     "output_type": "execute_result"
    }
   ],
   "source": [
    "check_for_nan(dframe=df)"
   ]
  },
  {
   "cell_type": "markdown",
   "metadata": {},
   "source": [
    "* In the column `Height(Inches)`, there are two `NaN` values at indices `10` and `32`.\n",
    "* In the column `Weight(Pounds)`, there is one `NaN` value at index `19`.\n",
    "\n",
    "**What can we do for those?**\n",
    "- Remove the entire row which ever column has a `NaN`.\n",
    "\n",
    "For this, we will remove the rows which ever column has `NaN`. In total, there are 3 rows that need to be removed."
   ]
  },
  {
   "cell_type": "markdown",
   "metadata": {},
   "source": [
    "### Remove 3 rows\n",
    "\n",
    "* axis (0) → row\n",
    "* axis (1) → column"
   ]
  },
  {
   "cell_type": "code",
   "execution_count": 8,
   "metadata": {},
   "outputs": [],
   "source": [
    "# pdf\n",
    "# dropna\n",
    "pdf = df.dropna(axis=0)"
   ]
  },
  {
   "cell_type": "markdown",
   "metadata": {},
   "source": [
    "### check the length of `pdf`"
   ]
  },
  {
   "cell_type": "code",
   "execution_count": 9,
   "metadata": {},
   "outputs": [
    {
     "data": {
      "text/plain": [
       "(197, 2)"
      ]
     },
     "execution_count": 9,
     "metadata": {},
     "output_type": "execute_result"
    }
   ],
   "source": [
    "# shape\n",
    "pdf.shape"
   ]
  },
  {
   "cell_type": "markdown",
   "metadata": {},
   "source": [
    "Since the index of the data frame is not in order, we need to reindex the index values to get the perfect order."
   ]
  },
  {
   "cell_type": "code",
   "execution_count": 10,
   "metadata": {
    "scrolled": true
   },
   "outputs": [
    {
     "data": {
      "text/html": [
       "<div>\n",
       "<style scoped>\n",
       "    .dataframe tbody tr th:only-of-type {\n",
       "        vertical-align: middle;\n",
       "    }\n",
       "\n",
       "    .dataframe tbody tr th {\n",
       "        vertical-align: top;\n",
       "    }\n",
       "\n",
       "    .dataframe thead th {\n",
       "        text-align: right;\n",
       "    }\n",
       "</style>\n",
       "<table border=\"1\" class=\"dataframe\">\n",
       "  <thead>\n",
       "    <tr style=\"text-align: right;\">\n",
       "      <th></th>\n",
       "      <th>Height(Inches)</th>\n",
       "      <th>Weight(Pounds)</th>\n",
       "    </tr>\n",
       "  </thead>\n",
       "  <tbody>\n",
       "    <tr>\n",
       "      <th>0</th>\n",
       "      <td>65.78</td>\n",
       "      <td>112.99</td>\n",
       "    </tr>\n",
       "    <tr>\n",
       "      <th>1</th>\n",
       "      <td>71.52</td>\n",
       "      <td>136.49</td>\n",
       "    </tr>\n",
       "    <tr>\n",
       "      <th>2</th>\n",
       "      <td>69.40</td>\n",
       "      <td>153.03</td>\n",
       "    </tr>\n",
       "    <tr>\n",
       "      <th>3</th>\n",
       "      <td>68.22</td>\n",
       "      <td>142.34</td>\n",
       "    </tr>\n",
       "    <tr>\n",
       "      <th>4</th>\n",
       "      <td>67.79</td>\n",
       "      <td>144.30</td>\n",
       "    </tr>\n",
       "    <tr>\n",
       "      <th>5</th>\n",
       "      <td>68.70</td>\n",
       "      <td>123.30</td>\n",
       "    </tr>\n",
       "    <tr>\n",
       "      <th>6</th>\n",
       "      <td>69.80</td>\n",
       "      <td>141.49</td>\n",
       "    </tr>\n",
       "    <tr>\n",
       "      <th>7</th>\n",
       "      <td>70.01</td>\n",
       "      <td>136.46</td>\n",
       "    </tr>\n",
       "    <tr>\n",
       "      <th>8</th>\n",
       "      <td>67.90</td>\n",
       "      <td>112.37</td>\n",
       "    </tr>\n",
       "    <tr>\n",
       "      <th>9</th>\n",
       "      <td>66.78</td>\n",
       "      <td>120.67</td>\n",
       "    </tr>\n",
       "    <tr>\n",
       "      <th>11</th>\n",
       "      <td>67.62</td>\n",
       "      <td>114.14</td>\n",
       "    </tr>\n",
       "    <tr>\n",
       "      <th>12</th>\n",
       "      <td>68.30</td>\n",
       "      <td>125.61</td>\n",
       "    </tr>\n",
       "  </tbody>\n",
       "</table>\n",
       "</div>"
      ],
      "text/plain": [
       "    Height(Inches)  Weight(Pounds)\n",
       "0            65.78          112.99\n",
       "1            71.52          136.49\n",
       "2            69.40          153.03\n",
       "3            68.22          142.34\n",
       "4            67.79          144.30\n",
       "5            68.70          123.30\n",
       "6            69.80          141.49\n",
       "7            70.01          136.46\n",
       "8            67.90          112.37\n",
       "9            66.78          120.67\n",
       "11           67.62          114.14\n",
       "12           68.30          125.61"
      ]
     },
     "execution_count": 10,
     "metadata": {},
     "output_type": "execute_result"
    }
   ],
   "source": [
    "# head\n",
    "pdf.head(12)"
   ]
  },
  {
   "cell_type": "markdown",
   "metadata": {},
   "source": [
    "### Reset the index"
   ]
  },
  {
   "cell_type": "code",
   "execution_count": 11,
   "metadata": {},
   "outputs": [],
   "source": [
    "# rdf\n",
    "# reset with drop\n",
    "pdf = pdf.reset_index(drop=True)"
   ]
  },
  {
   "cell_type": "code",
   "execution_count": 12,
   "metadata": {
    "scrolled": true
   },
   "outputs": [
    {
     "data": {
      "text/plain": [
       "(197, 2)"
      ]
     },
     "execution_count": 12,
     "metadata": {},
     "output_type": "execute_result"
    }
   ],
   "source": [
    "# shape\n",
    "pdf.shape"
   ]
  },
  {
   "cell_type": "code",
   "execution_count": 13,
   "metadata": {},
   "outputs": [
    {
     "data": {
      "text/html": [
       "<div>\n",
       "<style scoped>\n",
       "    .dataframe tbody tr th:only-of-type {\n",
       "        vertical-align: middle;\n",
       "    }\n",
       "\n",
       "    .dataframe tbody tr th {\n",
       "        vertical-align: top;\n",
       "    }\n",
       "\n",
       "    .dataframe thead th {\n",
       "        text-align: right;\n",
       "    }\n",
       "</style>\n",
       "<table border=\"1\" class=\"dataframe\">\n",
       "  <thead>\n",
       "    <tr style=\"text-align: right;\">\n",
       "      <th></th>\n",
       "      <th>Height(Inches)</th>\n",
       "      <th>Weight(Pounds)</th>\n",
       "    </tr>\n",
       "  </thead>\n",
       "  <tbody>\n",
       "    <tr>\n",
       "      <th>0</th>\n",
       "      <td>65.78</td>\n",
       "      <td>112.99</td>\n",
       "    </tr>\n",
       "    <tr>\n",
       "      <th>1</th>\n",
       "      <td>71.52</td>\n",
       "      <td>136.49</td>\n",
       "    </tr>\n",
       "    <tr>\n",
       "      <th>2</th>\n",
       "      <td>69.40</td>\n",
       "      <td>153.03</td>\n",
       "    </tr>\n",
       "    <tr>\n",
       "      <th>3</th>\n",
       "      <td>68.22</td>\n",
       "      <td>142.34</td>\n",
       "    </tr>\n",
       "    <tr>\n",
       "      <th>4</th>\n",
       "      <td>67.79</td>\n",
       "      <td>144.30</td>\n",
       "    </tr>\n",
       "    <tr>\n",
       "      <th>5</th>\n",
       "      <td>68.70</td>\n",
       "      <td>123.30</td>\n",
       "    </tr>\n",
       "    <tr>\n",
       "      <th>6</th>\n",
       "      <td>69.80</td>\n",
       "      <td>141.49</td>\n",
       "    </tr>\n",
       "    <tr>\n",
       "      <th>7</th>\n",
       "      <td>70.01</td>\n",
       "      <td>136.46</td>\n",
       "    </tr>\n",
       "    <tr>\n",
       "      <th>8</th>\n",
       "      <td>67.90</td>\n",
       "      <td>112.37</td>\n",
       "    </tr>\n",
       "    <tr>\n",
       "      <th>9</th>\n",
       "      <td>66.78</td>\n",
       "      <td>120.67</td>\n",
       "    </tr>\n",
       "    <tr>\n",
       "      <th>10</th>\n",
       "      <td>67.62</td>\n",
       "      <td>114.14</td>\n",
       "    </tr>\n",
       "    <tr>\n",
       "      <th>11</th>\n",
       "      <td>68.30</td>\n",
       "      <td>125.61</td>\n",
       "    </tr>\n",
       "  </tbody>\n",
       "</table>\n",
       "</div>"
      ],
      "text/plain": [
       "    Height(Inches)  Weight(Pounds)\n",
       "0            65.78          112.99\n",
       "1            71.52          136.49\n",
       "2            69.40          153.03\n",
       "3            68.22          142.34\n",
       "4            67.79          144.30\n",
       "5            68.70          123.30\n",
       "6            69.80          141.49\n",
       "7            70.01          136.46\n",
       "8            67.90          112.37\n",
       "9            66.78          120.67\n",
       "10           67.62          114.14\n",
       "11           68.30          125.61"
      ]
     },
     "execution_count": 13,
     "metadata": {},
     "output_type": "execute_result"
    }
   ],
   "source": [
    "# head\n",
    "pdf.head(12)"
   ]
  },
  {
   "cell_type": "markdown",
   "metadata": {},
   "source": [
    "### Check if `Height(Inches)` < 40"
   ]
  },
  {
   "cell_type": "code",
   "execution_count": 14,
   "metadata": {},
   "outputs": [],
   "source": [
    "# inch_thresh\n",
    "inch_thresh = 40"
   ]
  },
  {
   "cell_type": "code",
   "execution_count": 15,
   "metadata": {
    "scrolled": true
   },
   "outputs": [
    {
     "data": {
      "text/html": [
       "<div>\n",
       "<style scoped>\n",
       "    .dataframe tbody tr th:only-of-type {\n",
       "        vertical-align: middle;\n",
       "    }\n",
       "\n",
       "    .dataframe tbody tr th {\n",
       "        vertical-align: top;\n",
       "    }\n",
       "\n",
       "    .dataframe thead th {\n",
       "        text-align: right;\n",
       "    }\n",
       "</style>\n",
       "<table border=\"1\" class=\"dataframe\">\n",
       "  <thead>\n",
       "    <tr style=\"text-align: right;\">\n",
       "      <th></th>\n",
       "      <th>Height(Inches)</th>\n",
       "      <th>Weight(Pounds)</th>\n",
       "    </tr>\n",
       "  </thead>\n",
       "  <tbody>\n",
       "    <tr>\n",
       "      <th>68</th>\n",
       "      <td>30.84</td>\n",
       "      <td>134.02</td>\n",
       "    </tr>\n",
       "    <tr>\n",
       "      <th>93</th>\n",
       "      <td>36.29</td>\n",
       "      <td>120.03</td>\n",
       "    </tr>\n",
       "  </tbody>\n",
       "</table>\n",
       "</div>"
      ],
      "text/plain": [
       "    Height(Inches)  Weight(Pounds)\n",
       "68           30.84          134.02\n",
       "93           36.29          120.03"
      ]
     },
     "execution_count": 15,
     "metadata": {},
     "output_type": "execute_result"
    }
   ],
   "source": [
    "# filter with <\n",
    "pdf[pdf['Height(Inches)'] < 40]"
   ]
  },
  {
   "cell_type": "markdown",
   "metadata": {},
   "source": [
    "### Remove the rows where `Height(Inches)` < 40"
   ]
  },
  {
   "cell_type": "markdown",
   "metadata": {},
   "source": [
    "* In the above case, we can see two values where height is less than 40.\n",
    "* We remove by specifying the index values in `drop()` method."
   ]
  },
  {
   "cell_type": "code",
   "execution_count": 16,
   "metadata": {},
   "outputs": [],
   "source": [
    "# drop by index\n",
    "rdf = pdf.drop(index=[68, 93], axis=0)"
   ]
  },
  {
   "cell_type": "code",
   "execution_count": 17,
   "metadata": {
    "scrolled": true
   },
   "outputs": [
    {
     "data": {
      "text/plain": [
       "(195, 2)"
      ]
     },
     "execution_count": 17,
     "metadata": {},
     "output_type": "execute_result"
    }
   ],
   "source": [
    "# shape\n",
    "rdf.shape"
   ]
  },
  {
   "cell_type": "markdown",
   "metadata": {},
   "source": [
    "### Reset the index"
   ]
  },
  {
   "cell_type": "code",
   "execution_count": 18,
   "metadata": {},
   "outputs": [],
   "source": [
    "# hdf\n",
    "# drop = True\n",
    "hdf = rdf.reset_index(drop=True)"
   ]
  },
  {
   "cell_type": "code",
   "execution_count": 19,
   "metadata": {},
   "outputs": [
    {
     "data": {
      "text/plain": [
       "(195, 2)"
      ]
     },
     "execution_count": 19,
     "metadata": {},
     "output_type": "execute_result"
    }
   ],
   "source": [
    "# shape\n",
    "hdf.shape"
   ]
  },
  {
   "cell_type": "markdown",
   "metadata": {},
   "source": [
    "Since the index of the data frame is not in order, we need to reindex the index values to get the perfect order."
   ]
  },
  {
   "cell_type": "markdown",
   "metadata": {},
   "source": [
    "# Categorize the data"
   ]
  },
  {
   "cell_type": "code",
   "execution_count": 20,
   "metadata": {},
   "outputs": [],
   "source": [
    "# avg_height → mean\n",
    "avg_height = hdf['Height(Inches)'].mean()"
   ]
  },
  {
   "cell_type": "code",
   "execution_count": 21,
   "metadata": {},
   "outputs": [
    {
     "data": {
      "text/plain": [
       "67.95584615384617"
      ]
     },
     "execution_count": 21,
     "metadata": {},
     "output_type": "execute_result"
    }
   ],
   "source": [
    "avg_height"
   ]
  },
  {
   "cell_type": "code",
   "execution_count": 22,
   "metadata": {},
   "outputs": [],
   "source": [
    "# round()\n",
    "avg_height = round(avg_height)"
   ]
  },
  {
   "cell_type": "code",
   "execution_count": 23,
   "metadata": {},
   "outputs": [
    {
     "data": {
      "text/plain": [
       "68"
      ]
     },
     "execution_count": 23,
     "metadata": {},
     "output_type": "execute_result"
    }
   ],
   "source": [
    "avg_height"
   ]
  },
  {
   "cell_type": "code",
   "execution_count": 24,
   "metadata": {},
   "outputs": [],
   "source": [
    "# write code\n",
    "# height_cat -> consider round()\n",
    "\n",
    "height_cat = []\n",
    "\n",
    "for i in hdf['Height(Inches)'].to_list():\n",
    "    if round(i) < avg_height:\n",
    "        height_cat.append('Short')\n",
    "    elif round(i) == avg_height:\n",
    "        height_cat.append('Average')\n",
    "    else:\n",
    "        height_cat.append('Tall')"
   ]
  },
  {
   "cell_type": "code",
   "execution_count": 25,
   "metadata": {},
   "outputs": [
    {
     "data": {
      "text/plain": [
       "195"
      ]
     },
     "execution_count": 25,
     "metadata": {},
     "output_type": "execute_result"
    }
   ],
   "source": [
    "# check len\n",
    "len(height_cat)"
   ]
  },
  {
   "cell_type": "code",
   "execution_count": 26,
   "metadata": {
    "scrolled": true
   },
   "outputs": [
    {
     "name": "stdout",
     "output_type": "stream",
     "text": [
      "['Short', 'Tall', 'Tall', 'Average', 'Average', 'Tall', 'Tall', 'Tall', 'Average', 'Short', 'Average', 'Average', 'Short', 'Average', 'Tall', 'Short', 'Tall', 'Tall', 'Average', 'Tall', 'Short', 'Average', 'Average', 'Short', 'Tall', 'Short', 'Short', 'Short', 'Tall', 'Short', 'Tall', 'Tall', 'Tall', 'Short', 'Average', 'Average', 'Short', 'Tall', 'Short', 'Tall', 'Average', 'Short', 'Tall', 'Short', 'Average', 'Tall', 'Tall', 'Tall', 'Short', 'Tall', 'Tall', 'Short', 'Tall', 'Tall', 'Short', 'Short', 'Average', 'Short', 'Tall', 'Average', 'Short', 'Tall', 'Average', 'Tall', 'Average', 'Short', 'Short', 'Short', 'Tall', 'Short', 'Average', 'Short', 'Average', 'Short', 'Tall', 'Average', 'Tall', 'Short', 'Tall', 'Short', 'Tall', 'Tall', 'Short', 'Tall', 'Tall', 'Average', 'Average', 'Tall', 'Tall', 'Tall', 'Tall', 'Tall', 'Short', 'Short', 'Tall', 'Short', 'Short', 'Average', 'Short', 'Average', 'Average', 'Average', 'Short', 'Tall', 'Short', 'Average', 'Tall', 'Tall', 'Short', 'Tall', 'Tall', 'Tall', 'Tall', 'Short', 'Tall', 'Short', 'Short', 'Tall', 'Tall', 'Average', 'Short', 'Short', 'Average', 'Tall', 'Tall', 'Average', 'Tall', 'Tall', 'Short', 'Tall', 'Average', 'Short', 'Short', 'Tall', 'Tall', 'Tall', 'Short', 'Average', 'Average', 'Short', 'Average', 'Tall', 'Short', 'Tall', 'Tall', 'Tall', 'Short', 'Short', 'Short', 'Tall', 'Short', 'Tall', 'Average', 'Tall', 'Short', 'Short', 'Short', 'Tall', 'Average', 'Short', 'Short', 'Average', 'Short', 'Short', 'Short', 'Tall', 'Average', 'Average', 'Short', 'Tall', 'Short', 'Short', 'Short', 'Short', 'Short', 'Short', 'Short', 'Short', 'Tall', 'Short', 'Short', 'Tall', 'Short', 'Short', 'Average', 'Tall', 'Short', 'Short', 'Short', 'Tall', 'Short', 'Short', 'Average', 'Average', 'Tall']\n"
     ]
    }
   ],
   "source": [
    "# display\n",
    "print(height_cat)"
   ]
  },
  {
   "cell_type": "markdown",
   "metadata": {},
   "source": [
    "### Make a new column `height_category` in the dataframe - `hdf`"
   ]
  },
  {
   "cell_type": "code",
   "execution_count": 27,
   "metadata": {},
   "outputs": [
    {
     "data": {
      "text/html": [
       "<div>\n",
       "<style scoped>\n",
       "    .dataframe tbody tr th:only-of-type {\n",
       "        vertical-align: middle;\n",
       "    }\n",
       "\n",
       "    .dataframe tbody tr th {\n",
       "        vertical-align: top;\n",
       "    }\n",
       "\n",
       "    .dataframe thead th {\n",
       "        text-align: right;\n",
       "    }\n",
       "</style>\n",
       "<table border=\"1\" class=\"dataframe\">\n",
       "  <thead>\n",
       "    <tr style=\"text-align: right;\">\n",
       "      <th></th>\n",
       "      <th>Height(Inches)</th>\n",
       "      <th>Weight(Pounds)</th>\n",
       "    </tr>\n",
       "  </thead>\n",
       "  <tbody>\n",
       "    <tr>\n",
       "      <th>0</th>\n",
       "      <td>65.78</td>\n",
       "      <td>112.99</td>\n",
       "    </tr>\n",
       "    <tr>\n",
       "      <th>1</th>\n",
       "      <td>71.52</td>\n",
       "      <td>136.49</td>\n",
       "    </tr>\n",
       "    <tr>\n",
       "      <th>2</th>\n",
       "      <td>69.40</td>\n",
       "      <td>153.03</td>\n",
       "    </tr>\n",
       "    <tr>\n",
       "      <th>3</th>\n",
       "      <td>68.22</td>\n",
       "      <td>142.34</td>\n",
       "    </tr>\n",
       "    <tr>\n",
       "      <th>4</th>\n",
       "      <td>67.79</td>\n",
       "      <td>144.30</td>\n",
       "    </tr>\n",
       "  </tbody>\n",
       "</table>\n",
       "</div>"
      ],
      "text/plain": [
       "   Height(Inches)  Weight(Pounds)\n",
       "0           65.78          112.99\n",
       "1           71.52          136.49\n",
       "2           69.40          153.03\n",
       "3           68.22          142.34\n",
       "4           67.79          144.30"
      ]
     },
     "execution_count": 27,
     "metadata": {},
     "output_type": "execute_result"
    }
   ],
   "source": [
    "hdf.head()"
   ]
  },
  {
   "cell_type": "code",
   "execution_count": 28,
   "metadata": {},
   "outputs": [],
   "source": [
    "# new column\n",
    "hdf['height_cat'] = height_cat"
   ]
  },
  {
   "cell_type": "code",
   "execution_count": 29,
   "metadata": {
    "scrolled": true
   },
   "outputs": [
    {
     "data": {
      "text/html": [
       "<div>\n",
       "<style scoped>\n",
       "    .dataframe tbody tr th:only-of-type {\n",
       "        vertical-align: middle;\n",
       "    }\n",
       "\n",
       "    .dataframe tbody tr th {\n",
       "        vertical-align: top;\n",
       "    }\n",
       "\n",
       "    .dataframe thead th {\n",
       "        text-align: right;\n",
       "    }\n",
       "</style>\n",
       "<table border=\"1\" class=\"dataframe\">\n",
       "  <thead>\n",
       "    <tr style=\"text-align: right;\">\n",
       "      <th></th>\n",
       "      <th>Height(Inches)</th>\n",
       "      <th>Weight(Pounds)</th>\n",
       "      <th>height_cat</th>\n",
       "    </tr>\n",
       "  </thead>\n",
       "  <tbody>\n",
       "    <tr>\n",
       "      <th>0</th>\n",
       "      <td>65.78</td>\n",
       "      <td>112.99</td>\n",
       "      <td>Short</td>\n",
       "    </tr>\n",
       "    <tr>\n",
       "      <th>1</th>\n",
       "      <td>71.52</td>\n",
       "      <td>136.49</td>\n",
       "      <td>Tall</td>\n",
       "    </tr>\n",
       "    <tr>\n",
       "      <th>2</th>\n",
       "      <td>69.40</td>\n",
       "      <td>153.03</td>\n",
       "      <td>Tall</td>\n",
       "    </tr>\n",
       "    <tr>\n",
       "      <th>3</th>\n",
       "      <td>68.22</td>\n",
       "      <td>142.34</td>\n",
       "      <td>Average</td>\n",
       "    </tr>\n",
       "    <tr>\n",
       "      <th>4</th>\n",
       "      <td>67.79</td>\n",
       "      <td>144.30</td>\n",
       "      <td>Average</td>\n",
       "    </tr>\n",
       "  </tbody>\n",
       "</table>\n",
       "</div>"
      ],
      "text/plain": [
       "   Height(Inches)  Weight(Pounds) height_cat\n",
       "0           65.78          112.99      Short\n",
       "1           71.52          136.49       Tall\n",
       "2           69.40          153.03       Tall\n",
       "3           68.22          142.34    Average\n",
       "4           67.79          144.30    Average"
      ]
     },
     "execution_count": 29,
     "metadata": {},
     "output_type": "execute_result"
    }
   ],
   "source": [
    "# check head\n",
    "hdf.head()"
   ]
  },
  {
   "cell_type": "markdown",
   "metadata": {},
   "source": [
    "### Plotting the pie chart to show\n",
    "\n",
    "* how many are short\n",
    "* how many are tall"
   ]
  },
  {
   "cell_type": "markdown",
   "metadata": {},
   "source": [
    "### Take `value_counts()` of `height_category` variable"
   ]
  },
  {
   "cell_type": "code",
   "execution_count": 30,
   "metadata": {},
   "outputs": [
    {
     "data": {
      "text/plain": [
       "Short      79\n",
       "Tall       74\n",
       "Average    42\n",
       "Name: height_cat, dtype: int64"
      ]
     },
     "execution_count": 30,
     "metadata": {},
     "output_type": "execute_result"
    }
   ],
   "source": [
    "hdf['height_cat'].value_counts()"
   ]
  },
  {
   "cell_type": "code",
   "execution_count": 31,
   "metadata": {},
   "outputs": [],
   "source": [
    "# df_pie → to_frame\n",
    "df_pie = hdf['height_cat'].value_counts().to_frame()"
   ]
  },
  {
   "cell_type": "code",
   "execution_count": 32,
   "metadata": {},
   "outputs": [
    {
     "data": {
      "text/html": [
       "<div>\n",
       "<style scoped>\n",
       "    .dataframe tbody tr th:only-of-type {\n",
       "        vertical-align: middle;\n",
       "    }\n",
       "\n",
       "    .dataframe tbody tr th {\n",
       "        vertical-align: top;\n",
       "    }\n",
       "\n",
       "    .dataframe thead th {\n",
       "        text-align: right;\n",
       "    }\n",
       "</style>\n",
       "<table border=\"1\" class=\"dataframe\">\n",
       "  <thead>\n",
       "    <tr style=\"text-align: right;\">\n",
       "      <th></th>\n",
       "      <th>height_cat</th>\n",
       "    </tr>\n",
       "  </thead>\n",
       "  <tbody>\n",
       "    <tr>\n",
       "      <th>Short</th>\n",
       "      <td>79</td>\n",
       "    </tr>\n",
       "    <tr>\n",
       "      <th>Tall</th>\n",
       "      <td>74</td>\n",
       "    </tr>\n",
       "    <tr>\n",
       "      <th>Average</th>\n",
       "      <td>42</td>\n",
       "    </tr>\n",
       "  </tbody>\n",
       "</table>\n",
       "</div>"
      ],
      "text/plain": [
       "         height_cat\n",
       "Short            79\n",
       "Tall             74\n",
       "Average          42"
      ]
     },
     "execution_count": 32,
     "metadata": {},
     "output_type": "execute_result"
    }
   ],
   "source": [
    "# display df_pie\n",
    "df_pie"
   ]
  },
  {
   "cell_type": "code",
   "execution_count": 33,
   "metadata": {},
   "outputs": [
    {
     "data": {
      "text/plain": [
       "array([<AxesSubplot:ylabel='height_cat'>], dtype=object)"
      ]
     },
     "execution_count": 33,
     "metadata": {},
     "output_type": "execute_result"
    },
    {
     "data": {
      "image/png": "[encoded data removed]",
      "text/plain": [
       "<Figure size 720x432 with 1 Axes>"
      ]
     },
     "metadata": {},
     "output_type": "display_data"
    }
   ],
   "source": [
    "# plot pie of df_pie with size (width=10, height=6)\n",
    "df_pie.plot(kind='pie', figsize=(10, 6), subplots=True)"
   ]
  },
  {
   "cell_type": "code",
   "execution_count": null,
   "metadata": {},
   "outputs": [],
   "source": []
  },
  {
   "cell_type": "markdown",
   "metadata": {},
   "source": [
    "### What did we learn?"
   ]
  },
  {
   "cell_type": "markdown",
   "metadata": {},
   "source": [
    "* Data Preprocessing\n",
    "* Real life scenario Example\n",
    "* Classroom Management problem\n",
    "    - sports\n",
    "    - academics\n",
    "    - creative work\n",
    "    - marketing\n",
    "* Getting hands dirty by writing code\n",
    "* Plotting the pie chart for showing categorization"
   ]
  }
 ],
 "metadata": {
  "kernelspec": {
   "display_name": "Python 3",
   "language": "python",
   "name": "python3"
  },
  "language_info": {
   "codemirror_mode": {
    "name": "ipython",
    "version": 3
   },
   "file_extension": ".py",
   "mimetype": "text/x-python",
   "name": "python",
   "nbconvert_exporter": "python",
   "pygments_lexer": "ipython3",
   "version": "3.8.4"
  }
 },
 "nbformat": 4,
 "nbformat_minor": 4
}
